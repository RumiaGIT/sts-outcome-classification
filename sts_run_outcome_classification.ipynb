{
 "cells": [
  {
   "cell_type": "markdown",
   "id": "9447aaac",
   "metadata": {},
   "source": [
    "# Slay the Spire Run Outcome Classification"
   ]
  },
  {
   "cell_type": "markdown",
   "id": "47bca08c",
   "metadata": {},
   "source": [
    "## Imports"
   ]
  },
  {
   "cell_type": "code",
   "execution_count": 1,
   "id": "94f5b936",
   "metadata": {
    "ExecuteTime": {
     "end_time": "2023-06-18T15:14:00.997109Z",
     "start_time": "2023-06-18T15:13:59.119395Z"
    }
   },
   "outputs": [],
   "source": [
    "import pandas as pd\n",
    "import numpy as np\n",
    "import matplotlib.pyplot as plt\n",
    "import seaborn as sns"
   ]
  },
  {
   "cell_type": "code",
   "execution_count": 2,
   "id": "1ca1c920",
   "metadata": {
    "ExecuteTime": {
     "end_time": "2023-06-18T15:14:01.012094Z",
     "start_time": "2023-06-18T15:14:01.001089Z"
    }
   },
   "outputs": [],
   "source": [
    "import json\n",
    "from pathlib import Path\n",
    "from glob import glob\n",
    "import warnings"
   ]
  },
  {
   "cell_type": "code",
   "execution_count": 3,
   "id": "1d90cdee",
   "metadata": {
    "ExecuteTime": {
     "end_time": "2023-06-18T15:14:01.043065Z",
     "start_time": "2023-06-18T15:14:01.016081Z"
    }
   },
   "outputs": [],
   "source": [
    "plt.style.use(\"seaborn-v0_8\")"
   ]
  },
  {
   "cell_type": "markdown",
   "id": "35d331ce",
   "metadata": {},
   "source": [
    "## All Links in Document"
   ]
  },
  {
   "cell_type": "markdown",
   "id": "2c5b931e",
   "metadata": {},
   "source": [
    "## Introduction"
   ]
  },
  {
   "cell_type": "markdown",
   "id": "274c4b77",
   "metadata": {},
   "source": [
    "## Data Merging"
   ]
  },
  {
   "cell_type": "code",
   "execution_count": null,
   "id": "3ba87e19",
   "metadata": {
    "ExecuteTime": {
     "end_time": "2023-06-14T16:34:44.364979Z",
     "start_time": "2023-06-14T16:34:44.338991Z"
    },
    "scrolled": true
   },
   "outputs": [],
   "source": [
    "files_raw = glob(\"data/raw/*.json\")"
   ]
  },
  {
   "cell_type": "code",
   "execution_count": null,
   "id": "d365610e",
   "metadata": {
    "ExecuteTime": {
     "end_time": "2023-06-14T16:34:44.380966Z",
     "start_time": "2023-06-14T16:34:44.367975Z"
    }
   },
   "outputs": [],
   "source": [
    "len(files_raw)"
   ]
  },
  {
   "cell_type": "code",
   "execution_count": null,
   "id": "58c55561",
   "metadata": {
    "ExecuteTime": {
     "end_time": "2023-06-14T16:34:44.395958Z",
     "start_time": "2023-06-14T16:34:44.385966Z"
    }
   },
   "outputs": [],
   "source": [
    "q1 = files_raw[:400]\n",
    "q2 = files_raw[400:800]\n",
    "q3 = files_raw[800:1200]\n",
    "q4 = files_raw[1200:]\n",
    "\n",
    "file_quarters_dict = {\"q1\": q1, \"q2\": q2, \"q3\": q3, \"q4\": q4}"
   ]
  },
  {
   "cell_type": "code",
   "execution_count": null,
   "id": "7a33a00b",
   "metadata": {
    "ExecuteTime": {
     "end_time": "2023-06-14T16:34:44.411949Z",
     "start_time": "2023-06-14T16:34:44.398956Z"
    }
   },
   "outputs": [],
   "source": [
    "Path(f\"asdf\")"
   ]
  },
  {
   "cell_type": "code",
   "execution_count": null,
   "id": "08ccb7c6",
   "metadata": {
    "ExecuteTime": {
     "end_time": "2023-06-14T16:34:44.427939Z",
     "start_time": "2023-06-14T16:34:44.414947Z"
    }
   },
   "outputs": [],
   "source": [
    "def merge_json(out_name, file_list):\n",
    "    result = []\n",
    "    for i, file in enumerate(file_list):\n",
    "        print(f\"Quarter: {out_name} | File: {i+1}/{len(file_list)}\", end=\"\\r\")\n",
    "        with open(file, 'r') as f:\n",
    "            result.extend(json.load(f))\n",
    "\n",
    "    with open(Path(f'data/combined/merged_{out_name}.json'), 'w') as output_file:\n",
    "        json.dump(result, output_file, indent=\"\")"
   ]
  },
  {
   "cell_type": "code",
   "execution_count": null,
   "id": "fcb7f5f6",
   "metadata": {
    "ExecuteTime": {
     "start_time": "2023-06-14T16:34:44.333Z"
    }
   },
   "outputs": [],
   "source": [
    "for key, value in file_quarters_dict.items():\n",
    "    merge_json(key, value)"
   ]
  },
  {
   "cell_type": "code",
   "execution_count": null,
   "id": "43daa0e8",
   "metadata": {
    "ExecuteTime": {
     "start_time": "2023-06-14T16:34:44.334Z"
    }
   },
   "outputs": [],
   "source": [
    "files_json = glob(\"data/combined/*.json\")"
   ]
  },
  {
   "cell_type": "code",
   "execution_count": null,
   "id": "34d9e569",
   "metadata": {
    "ExecuteTime": {
     "start_time": "2023-06-14T16:34:44.337Z"
    }
   },
   "outputs": [],
   "source": [
    "files_json"
   ]
  },
  {
   "cell_type": "code",
   "execution_count": null,
   "id": "13e51c72",
   "metadata": {
    "ExecuteTime": {
     "start_time": "2023-06-14T16:34:44.343Z"
    }
   },
   "outputs": [],
   "source": [
    "files_json_dict = {\"q1\": files_json[0], \"q2\": files_json[1], \"q3\": files_json[2], \"q4\": files_json[3]}\n",
    "files_json_dict"
   ]
  },
  {
   "cell_type": "code",
   "execution_count": null,
   "id": "b5ffff33",
   "metadata": {
    "ExecuteTime": {
     "start_time": "2023-06-14T16:34:44.348Z"
    }
   },
   "outputs": [],
   "source": [
    "def json_to_csv(out_name, json_file_paths):\n",
    "    with open(f\"{json_file_paths}\", \"r\") as f:\n",
    "        raw = json.loads(f.read())\n",
    "        df = pd.json_normalize(raw)\n",
    "        df.to_csv(f\"data/combined/csv_{out_name}.csv\", index=False)"
   ]
  },
  {
   "cell_type": "code",
   "execution_count": null,
   "id": "7b6f0961",
   "metadata": {
    "ExecuteTime": {
     "start_time": "2023-06-14T16:34:44.351Z"
    }
   },
   "outputs": [],
   "source": [
    "for key, value in files_json_dict.items():\n",
    "    json_to_csv(key, value)"
   ]
  },
  {
   "cell_type": "code",
   "execution_count": null,
   "id": "268ded98",
   "metadata": {
    "ExecuteTime": {
     "start_time": "2023-06-14T16:34:44.353Z"
    }
   },
   "outputs": [],
   "source": [
    "def merge_csv():\n",
    "    with warnings.catch_warnings():\n",
    "        warnings.simplefilter(action='ignore')\n",
    "        files_csv = glob(\"data/combined/*.csv\")\n",
    "        df = pd.concat(map(pd.read_csv, files_csv), ignore_index=True)\n",
    "        df.to_csv(\"data/full/full.csv\", index=False)"
   ]
  },
  {
   "cell_type": "code",
   "execution_count": null,
   "id": "a6554c34",
   "metadata": {
    "ExecuteTime": {
     "start_time": "2023-06-14T16:34:44.355Z"
    }
   },
   "outputs": [],
   "source": [
    "merge_csv()"
   ]
  },
  {
   "cell_type": "markdown",
   "id": "9d99e934",
   "metadata": {},
   "source": [
    "## Data Preparation"
   ]
  },
  {
   "cell_type": "code",
   "execution_count": 4,
   "id": "d64398b4",
   "metadata": {
    "ExecuteTime": {
     "end_time": "2023-06-18T15:16:02.508306Z",
     "start_time": "2023-06-18T15:14:06.060370Z"
    }
   },
   "outputs": [],
   "source": [
    "with warnings.catch_warnings():\n",
    "    warnings.simplefilter(action='ignore')\n",
    "    df = pd.read_csv(\"data/full/full.csv\")"
   ]
  },
  {
   "cell_type": "code",
   "execution_count": 5,
   "id": "8292ea46",
   "metadata": {
    "ExecuteTime": {
     "end_time": "2023-06-18T15:16:02.523299Z",
     "start_time": "2023-06-18T15:16:02.511305Z"
    }
   },
   "outputs": [],
   "source": [
    "df.columns = df.columns.str.replace(\"event\\.\", \"\", regex=True)"
   ]
  },
  {
   "cell_type": "code",
   "execution_count": 6,
   "id": "1ea2f911",
   "metadata": {
    "ExecuteTime": {
     "end_time": "2023-06-18T15:16:02.585263Z",
     "start_time": "2023-06-18T15:16:02.528295Z"
    }
   },
   "outputs": [
    {
     "data": {
      "text/html": [
       "<div>\n",
       "<style scoped>\n",
       "    .dataframe tbody tr th:only-of-type {\n",
       "        vertical-align: middle;\n",
       "    }\n",
       "\n",
       "    .dataframe tbody tr th {\n",
       "        vertical-align: top;\n",
       "    }\n",
       "\n",
       "    .dataframe thead th {\n",
       "        text-align: right;\n",
       "    }\n",
       "</style>\n",
       "<table border=\"1\" class=\"dataframe\">\n",
       "  <thead>\n",
       "    <tr style=\"text-align: right;\">\n",
       "      <th></th>\n",
       "      <th>gold_per_floor</th>\n",
       "      <th>floor_reached</th>\n",
       "      <th>playtime</th>\n",
       "      <th>items_purged</th>\n",
       "      <th>score</th>\n",
       "      <th>play_id</th>\n",
       "      <th>local_time</th>\n",
       "      <th>is_ascension_mode</th>\n",
       "      <th>campfire_choices</th>\n",
       "      <th>neow_cost</th>\n",
       "      <th>seed_source_timestamp</th>\n",
       "      <th>circlet_count</th>\n",
       "      <th>master_deck</th>\n",
       "      <th>relics</th>\n",
       "      <th>potions_floor_usage</th>\n",
       "      <th>damage_taken</th>\n",
       "      <th>seed_played</th>\n",
       "      <th>potions_obtained</th>\n",
       "      <th>is_trial</th>\n",
       "      <th>path_per_floor</th>\n",
       "      <th>character_chosen</th>\n",
       "      <th>items_purchased</th>\n",
       "      <th>campfire_rested</th>\n",
       "      <th>item_purchase_floors</th>\n",
       "      <th>current_hp_per_floor</th>\n",
       "      <th>gold</th>\n",
       "      <th>neow_bonus</th>\n",
       "      <th>is_prod</th>\n",
       "      <th>is_daily</th>\n",
       "      <th>chose_seed</th>\n",
       "      <th>campfire_upgraded</th>\n",
       "      <th>win_rate</th>\n",
       "      <th>timestamp</th>\n",
       "      <th>path_taken</th>\n",
       "      <th>build_version</th>\n",
       "      <th>purchased_purges</th>\n",
       "      <th>victory</th>\n",
       "      <th>max_hp_per_floor</th>\n",
       "      <th>card_choices</th>\n",
       "      <th>player_experience</th>\n",
       "      <th>relics_obtained</th>\n",
       "      <th>event_choices</th>\n",
       "      <th>is_beta</th>\n",
       "      <th>boss_relics</th>\n",
       "      <th>items_purged_floors</th>\n",
       "      <th>is_endless</th>\n",
       "      <th>potions_floor_spawned</th>\n",
       "      <th>killed_by</th>\n",
       "      <th>ascension_level</th>\n",
       "      <th>special_seed</th>\n",
       "    </tr>\n",
       "  </thead>\n",
       "  <tbody>\n",
       "    <tr>\n",
       "      <th>0</th>\n",
       "      <td>[114, 127, 127, 127, 145, 177, 177, 193, 193, ...</td>\n",
       "      <td>50</td>\n",
       "      <td>3610</td>\n",
       "      <td>['Strike_R', 'Strike_R', 'Defend_R', 'Defend_R']</td>\n",
       "      <td>531</td>\n",
       "      <td>251eb1e0-5bfe-4c74-a86d-2925b198cd9c</td>\n",
       "      <td>20201101005734</td>\n",
       "      <td>False</td>\n",
       "      <td>[{'data': 'Anger', 'floor': 7, 'key': 'SMITH'}...</td>\n",
       "      <td>TEN_PERCENT_HP_LOSS</td>\n",
       "      <td>18759847683600</td>\n",
       "      <td>0.0</td>\n",
       "      <td>['Strike_R+1', 'Strike_R+1', 'Defend_R', 'Defe...</td>\n",
       "      <td>['Burning Blood', 'Ancient Tea Set', 'Ginger',...</td>\n",
       "      <td>[10, 16, 22, 50]</td>\n",
       "      <td>[{'damage': 0, 'enemies': 'Cultist', 'floor': ...</td>\n",
       "      <td>4360709066122049819</td>\n",
       "      <td>[{'floor': 1, 'key': 'BlessingOfTheForge'}, {'...</td>\n",
       "      <td>False</td>\n",
       "      <td>['M', 'M', '?', '?', 'M', 'E', 'R', 'M', 'T', ...</td>\n",
       "      <td>IRONCLAD</td>\n",
       "      <td>['Demon Form', 'Whirlwind+1', 'Clash+1']</td>\n",
       "      <td>2</td>\n",
       "      <td>[12, 24, 30]</td>\n",
       "      <td>[72, 72, 72, 72, 69, 49, 49, 52, 52, 42, 48, 4...</td>\n",
       "      <td>161</td>\n",
       "      <td>THREE_RARE_CARDS</td>\n",
       "      <td>False</td>\n",
       "      <td>False</td>\n",
       "      <td>False</td>\n",
       "      <td>9</td>\n",
       "      <td>0.0</td>\n",
       "      <td>1604188654</td>\n",
       "      <td>['M', 'M', '?', '?', 'M', 'E', 'R', 'M', 'T', ...</td>\n",
       "      <td>2020-07-30</td>\n",
       "      <td>4</td>\n",
       "      <td>False</td>\n",
       "      <td>[72, 72, 72, 72, 72, 72, 72, 72, 72, 72, 72, 7...</td>\n",
       "      <td>[{'not_picked': ['Fiend Fire', 'Corruption'], ...</td>\n",
       "      <td>3232</td>\n",
       "      <td>[{'floor': 6, 'key': 'Ginger'}, {'floor': 9, '...</td>\n",
       "      <td>[{'damage_healed': 0, 'gold_gain': 0, 'player_...</td>\n",
       "      <td>False</td>\n",
       "      <td>[{'not_picked': ['Fusion Hammer', 'Black Star'...</td>\n",
       "      <td>[12, 24, 30, 39]</td>\n",
       "      <td>False</td>\n",
       "      <td>[1, 5, 8, 18, 19, 38]</td>\n",
       "      <td>Awakened One</td>\n",
       "      <td>0</td>\n",
       "      <td>NaN</td>\n",
       "    </tr>\n",
       "    <tr>\n",
       "      <th>1</th>\n",
       "      <td>[118, 135, 145, 145, 165, 165, 240, 240, 264, ...</td>\n",
       "      <td>17</td>\n",
       "      <td>468</td>\n",
       "      <td>['Undo']</td>\n",
       "      <td>157</td>\n",
       "      <td>5366608f-19e5-48d5-85d6-3dd822d4bcb0</td>\n",
       "      <td>20201031195733</td>\n",
       "      <td>False</td>\n",
       "      <td>[{'data': 'Defragment', 'floor': 6, 'key': 'SM...</td>\n",
       "      <td>NONE</td>\n",
       "      <td>282011203681164</td>\n",
       "      <td>0.0</td>\n",
       "      <td>['Zap+1', 'Dualcast', 'Ball Lightning+1', 'Cha...</td>\n",
       "      <td>[\"Pandora's Box\", 'Akabeko', 'Whetstone', 'Pot...</td>\n",
       "      <td>[]</td>\n",
       "      <td>[{'damage': 0, 'enemies': 'Cultist', 'floor': ...</td>\n",
       "      <td>-5287898441915956518</td>\n",
       "      <td>[{'floor': 1, 'key': 'GamblersBrew'}, {'floor'...</td>\n",
       "      <td>False</td>\n",
       "      <td>['M', 'M', 'M', '?', 'M', 'R', '?', 'R', 'T', ...</td>\n",
       "      <td>DEFECT</td>\n",
       "      <td>['Whetstone']</td>\n",
       "      <td>0</td>\n",
       "      <td>[11]</td>\n",
       "      <td>[75, 70, 64, 64, 64, 64, 53, 53, 53, 53, 53, 7...</td>\n",
       "      <td>150</td>\n",
       "      <td>BOSS_RELIC</td>\n",
       "      <td>False</td>\n",
       "      <td>False</td>\n",
       "      <td>False</td>\n",
       "      <td>3</td>\n",
       "      <td>0.0</td>\n",
       "      <td>1604188653</td>\n",
       "      <td>['M', '?', 'M', '?', '?', 'R', '?', 'R', 'T', ...</td>\n",
       "      <td>2020-07-30</td>\n",
       "      <td>1</td>\n",
       "      <td>False</td>\n",
       "      <td>[75, 75, 75, 75, 75, 75, 75, 75, 75, 75, 75, 7...</td>\n",
       "      <td>[{'not_picked': ['Sweeping Beam', 'Cold Snap']...</td>\n",
       "      <td>727972</td>\n",
       "      <td>[{'floor': 9, 'key': 'Akabeko'}, {'floor': 14,...</td>\n",
       "      <td>[{'damage_healed': 0, 'gold_gain': 0, 'cards_t...</td>\n",
       "      <td>False</td>\n",
       "      <td>[]</td>\n",
       "      <td>[11]</td>\n",
       "      <td>False</td>\n",
       "      <td>[1, 5, 14]</td>\n",
       "      <td>NaN</td>\n",
       "      <td>0</td>\n",
       "      <td>NaN</td>\n",
       "    </tr>\n",
       "    <tr>\n",
       "      <th>2</th>\n",
       "      <td>[99, 99]</td>\n",
       "      <td>0</td>\n",
       "      <td>19</td>\n",
       "      <td>[]</td>\n",
       "      <td>0</td>\n",
       "      <td>c393b168-681a-461b-ab36-14b12e65789f</td>\n",
       "      <td>20201101005730</td>\n",
       "      <td>False</td>\n",
       "      <td>[]</td>\n",
       "      <td>NONE</td>\n",
       "      <td>830089272981400</td>\n",
       "      <td>0.0</td>\n",
       "      <td>['Strike_P', 'Strike_P', 'Strike_P', 'Strike_P...</td>\n",
       "      <td>['PureWater', 'NeowsBlessing']</td>\n",
       "      <td>[]</td>\n",
       "      <td>[]</td>\n",
       "      <td>-7133015978471924421</td>\n",
       "      <td>[]</td>\n",
       "      <td>False</td>\n",
       "      <td>[]</td>\n",
       "      <td>WATCHER</td>\n",
       "      <td>[]</td>\n",
       "      <td>0</td>\n",
       "      <td>[]</td>\n",
       "      <td>[72, 72]</td>\n",
       "      <td>99</td>\n",
       "      <td>THREE_ENEMY_KILL</td>\n",
       "      <td>False</td>\n",
       "      <td>False</td>\n",
       "      <td>False</td>\n",
       "      <td>0</td>\n",
       "      <td>0.0</td>\n",
       "      <td>1604188650</td>\n",
       "      <td>[]</td>\n",
       "      <td>2020-07-30</td>\n",
       "      <td>0</td>\n",
       "      <td>False</td>\n",
       "      <td>[72, 72]</td>\n",
       "      <td>[]</td>\n",
       "      <td>257529</td>\n",
       "      <td>[]</td>\n",
       "      <td>[]</td>\n",
       "      <td>False</td>\n",
       "      <td>[]</td>\n",
       "      <td>[]</td>\n",
       "      <td>False</td>\n",
       "      <td>[]</td>\n",
       "      <td>NaN</td>\n",
       "      <td>0</td>\n",
       "      <td>NaN</td>\n",
       "    </tr>\n",
       "  </tbody>\n",
       "</table>\n",
       "</div>"
      ],
      "text/plain": [
       "                                      gold_per_floor  floor_reached  playtime  \\\n",
       "0  [114, 127, 127, 127, 145, 177, 177, 193, 193, ...             50      3610   \n",
       "1  [118, 135, 145, 145, 165, 165, 240, 240, 264, ...             17       468   \n",
       "2                                           [99, 99]              0        19   \n",
       "\n",
       "                                       items_purged  score  \\\n",
       "0  ['Strike_R', 'Strike_R', 'Defend_R', 'Defend_R']    531   \n",
       "1                                          ['Undo']    157   \n",
       "2                                                []      0   \n",
       "\n",
       "                                play_id      local_time  is_ascension_mode  \\\n",
       "0  251eb1e0-5bfe-4c74-a86d-2925b198cd9c  20201101005734              False   \n",
       "1  5366608f-19e5-48d5-85d6-3dd822d4bcb0  20201031195733              False   \n",
       "2  c393b168-681a-461b-ab36-14b12e65789f  20201101005730              False   \n",
       "\n",
       "                                    campfire_choices            neow_cost  \\\n",
       "0  [{'data': 'Anger', 'floor': 7, 'key': 'SMITH'}...  TEN_PERCENT_HP_LOSS   \n",
       "1  [{'data': 'Defragment', 'floor': 6, 'key': 'SM...                 NONE   \n",
       "2                                                 []                 NONE   \n",
       "\n",
       "   seed_source_timestamp  circlet_count  \\\n",
       "0         18759847683600            0.0   \n",
       "1        282011203681164            0.0   \n",
       "2        830089272981400            0.0   \n",
       "\n",
       "                                         master_deck  \\\n",
       "0  ['Strike_R+1', 'Strike_R+1', 'Defend_R', 'Defe...   \n",
       "1  ['Zap+1', 'Dualcast', 'Ball Lightning+1', 'Cha...   \n",
       "2  ['Strike_P', 'Strike_P', 'Strike_P', 'Strike_P...   \n",
       "\n",
       "                                              relics potions_floor_usage  \\\n",
       "0  ['Burning Blood', 'Ancient Tea Set', 'Ginger',...    [10, 16, 22, 50]   \n",
       "1  [\"Pandora's Box\", 'Akabeko', 'Whetstone', 'Pot...                  []   \n",
       "2                     ['PureWater', 'NeowsBlessing']                  []   \n",
       "\n",
       "                                        damage_taken          seed_played  \\\n",
       "0  [{'damage': 0, 'enemies': 'Cultist', 'floor': ...  4360709066122049819   \n",
       "1  [{'damage': 0, 'enemies': 'Cultist', 'floor': ... -5287898441915956518   \n",
       "2                                                 [] -7133015978471924421   \n",
       "\n",
       "                                    potions_obtained  is_trial  \\\n",
       "0  [{'floor': 1, 'key': 'BlessingOfTheForge'}, {'...     False   \n",
       "1  [{'floor': 1, 'key': 'GamblersBrew'}, {'floor'...     False   \n",
       "2                                                 []     False   \n",
       "\n",
       "                                      path_per_floor character_chosen  \\\n",
       "0  ['M', 'M', '?', '?', 'M', 'E', 'R', 'M', 'T', ...         IRONCLAD   \n",
       "1  ['M', 'M', 'M', '?', 'M', 'R', '?', 'R', 'T', ...           DEFECT   \n",
       "2                                                 []          WATCHER   \n",
       "\n",
       "                            items_purchased  campfire_rested  \\\n",
       "0  ['Demon Form', 'Whirlwind+1', 'Clash+1']                2   \n",
       "1                             ['Whetstone']                0   \n",
       "2                                        []                0   \n",
       "\n",
       "  item_purchase_floors                               current_hp_per_floor  \\\n",
       "0         [12, 24, 30]  [72, 72, 72, 72, 69, 49, 49, 52, 52, 42, 48, 4...   \n",
       "1                 [11]  [75, 70, 64, 64, 64, 64, 53, 53, 53, 53, 53, 7...   \n",
       "2                   []                                           [72, 72]   \n",
       "\n",
       "   gold        neow_bonus  is_prod  is_daily  chose_seed  campfire_upgraded  \\\n",
       "0   161  THREE_RARE_CARDS    False     False       False                  9   \n",
       "1   150        BOSS_RELIC    False     False       False                  3   \n",
       "2    99  THREE_ENEMY_KILL    False     False       False                  0   \n",
       "\n",
       "   win_rate   timestamp                                         path_taken  \\\n",
       "0       0.0  1604188654  ['M', 'M', '?', '?', 'M', 'E', 'R', 'M', 'T', ...   \n",
       "1       0.0  1604188653  ['M', '?', 'M', '?', '?', 'R', '?', 'R', 'T', ...   \n",
       "2       0.0  1604188650                                                 []   \n",
       "\n",
       "  build_version  purchased_purges  victory  \\\n",
       "0    2020-07-30                 4    False   \n",
       "1    2020-07-30                 1    False   \n",
       "2    2020-07-30                 0    False   \n",
       "\n",
       "                                    max_hp_per_floor  \\\n",
       "0  [72, 72, 72, 72, 72, 72, 72, 72, 72, 72, 72, 7...   \n",
       "1  [75, 75, 75, 75, 75, 75, 75, 75, 75, 75, 75, 7...   \n",
       "2                                           [72, 72]   \n",
       "\n",
       "                                        card_choices  player_experience  \\\n",
       "0  [{'not_picked': ['Fiend Fire', 'Corruption'], ...               3232   \n",
       "1  [{'not_picked': ['Sweeping Beam', 'Cold Snap']...             727972   \n",
       "2                                                 []             257529   \n",
       "\n",
       "                                     relics_obtained  \\\n",
       "0  [{'floor': 6, 'key': 'Ginger'}, {'floor': 9, '...   \n",
       "1  [{'floor': 9, 'key': 'Akabeko'}, {'floor': 14,...   \n",
       "2                                                 []   \n",
       "\n",
       "                                       event_choices is_beta  \\\n",
       "0  [{'damage_healed': 0, 'gold_gain': 0, 'player_...   False   \n",
       "1  [{'damage_healed': 0, 'gold_gain': 0, 'cards_t...   False   \n",
       "2                                                 []   False   \n",
       "\n",
       "                                         boss_relics items_purged_floors  \\\n",
       "0  [{'not_picked': ['Fusion Hammer', 'Black Star'...    [12, 24, 30, 39]   \n",
       "1                                                 []                [11]   \n",
       "2                                                 []                  []   \n",
       "\n",
       "   is_endless  potions_floor_spawned     killed_by  ascension_level  \\\n",
       "0       False  [1, 5, 8, 18, 19, 38]  Awakened One                0   \n",
       "1       False             [1, 5, 14]           NaN                0   \n",
       "2       False                     []           NaN                0   \n",
       "\n",
       "   special_seed  \n",
       "0           NaN  \n",
       "1           NaN  \n",
       "2           NaN  "
      ]
     },
     "execution_count": 6,
     "metadata": {},
     "output_type": "execute_result"
    }
   ],
   "source": [
    "pd.options.display.max_columns = 60\n",
    "df.head(3)"
   ]
  },
  {
   "cell_type": "code",
   "execution_count": 7,
   "id": "f644c108",
   "metadata": {
    "ExecuteTime": {
     "end_time": "2023-06-18T15:16:03.019022Z",
     "start_time": "2023-06-18T15:16:02.592258Z"
    }
   },
   "outputs": [
    {
     "name": "stdout",
     "output_type": "stream",
     "text": [
      "0\n",
      "545\n",
      "0\n",
      "0\n",
      "0\n",
      "105130\n",
      "0\n"
     ]
    }
   ],
   "source": [
    "print(df[df[\"is_trial\"] != False].shape[0])\n",
    "print(df[df[\"circlet_count\"] > 0].shape[0])\n",
    "print(df[df[\"is_prod\"] != False].shape[0])\n",
    "print(df[df[\"is_daily\"] != False].shape[0])\n",
    "print(df[df[\"chose_seed\"] != False].shape[0])\n",
    "print(df[df[\"is_beta\"] != False].shape[0])\n",
    "print(df[df[\"is_endless\"] != False].shape[0])"
   ]
  },
  {
   "cell_type": "code",
   "execution_count": 8,
   "id": "09fe1fcb",
   "metadata": {
    "ExecuteTime": {
     "end_time": "2023-06-18T15:16:03.343050Z",
     "start_time": "2023-06-18T15:16:03.023020Z"
    }
   },
   "outputs": [],
   "source": [
    "df = df.drop(columns=['playtime', 'items_purged', 'score', 'play_id', 'local_time',\n",
    "                      'is_ascension_mode', 'campfire_choices', 'seed_source_timestamp',\n",
    "                      'circlet_count', 'damage_taken', 'seed_played', 'potions_obtained', 'is_trial', \n",
    "                      'path_per_floor', 'items_purchased', 'item_purchase_floors',\n",
    "                      'current_hp_per_floor', 'gold', 'is_prod', 'is_daily', \n",
    "                      'chose_seed', 'win_rate', 'timestamp', 'build_version', \n",
    "                      'max_hp_per_floor', 'card_choices', 'player_experience', \n",
    "                      'relics_obtained', 'event_choices', 'is_beta', 'boss_relics', \n",
    "                      'items_purged_floors', 'is_endless', 'potions_floor_spawned', \n",
    "                      'special_seed', 'neow_bonus', 'neow_cost'])"
   ]
  },
  {
   "cell_type": "code",
   "execution_count": 9,
   "id": "67ea11ce",
   "metadata": {
    "ExecuteTime": {
     "end_time": "2023-06-18T15:16:03.358042Z",
     "start_time": "2023-06-18T15:16:03.347048Z"
    }
   },
   "outputs": [],
   "source": [
    "df.rename({\"gold_per_floor\": \"total_gold_spent\", \"master_deck\": \"final_deck_size\",\n",
    "           \"potions_floor_usage\": \"potions_used\", \"path_taken\": \"elites_killed\"}, axis=\"columns\", inplace=True)"
   ]
  },
  {
   "cell_type": "code",
   "execution_count": 10,
   "id": "19c2af99",
   "metadata": {
    "ExecuteTime": {
     "end_time": "2023-06-18T15:16:03.405014Z",
     "start_time": "2023-06-18T15:16:03.363040Z"
    }
   },
   "outputs": [
    {
     "data": {
      "text/html": [
       "<div>\n",
       "<style scoped>\n",
       "    .dataframe tbody tr th:only-of-type {\n",
       "        vertical-align: middle;\n",
       "    }\n",
       "\n",
       "    .dataframe tbody tr th {\n",
       "        vertical-align: top;\n",
       "    }\n",
       "\n",
       "    .dataframe thead th {\n",
       "        text-align: right;\n",
       "    }\n",
       "</style>\n",
       "<table border=\"1\" class=\"dataframe\">\n",
       "  <thead>\n",
       "    <tr style=\"text-align: right;\">\n",
       "      <th></th>\n",
       "      <th>total_gold_spent</th>\n",
       "      <th>floor_reached</th>\n",
       "      <th>final_deck_size</th>\n",
       "      <th>relics</th>\n",
       "      <th>potions_used</th>\n",
       "      <th>character_chosen</th>\n",
       "      <th>campfire_rested</th>\n",
       "      <th>campfire_upgraded</th>\n",
       "      <th>elites_killed</th>\n",
       "      <th>purchased_purges</th>\n",
       "      <th>victory</th>\n",
       "      <th>killed_by</th>\n",
       "      <th>ascension_level</th>\n",
       "    </tr>\n",
       "  </thead>\n",
       "  <tbody>\n",
       "    <tr>\n",
       "      <th>0</th>\n",
       "      <td>[114, 127, 127, 127, 145, 177, 177, 193, 193, ...</td>\n",
       "      <td>50</td>\n",
       "      <td>['Strike_R+1', 'Strike_R+1', 'Defend_R', 'Defe...</td>\n",
       "      <td>['Burning Blood', 'Ancient Tea Set', 'Ginger',...</td>\n",
       "      <td>[10, 16, 22, 50]</td>\n",
       "      <td>IRONCLAD</td>\n",
       "      <td>2</td>\n",
       "      <td>9</td>\n",
       "      <td>['M', 'M', '?', '?', 'M', 'E', 'R', 'M', 'T', ...</td>\n",
       "      <td>4</td>\n",
       "      <td>False</td>\n",
       "      <td>Awakened One</td>\n",
       "      <td>0</td>\n",
       "    </tr>\n",
       "    <tr>\n",
       "      <th>1</th>\n",
       "      <td>[118, 135, 145, 145, 165, 165, 240, 240, 264, ...</td>\n",
       "      <td>17</td>\n",
       "      <td>['Zap+1', 'Dualcast', 'Ball Lightning+1', 'Cha...</td>\n",
       "      <td>[\"Pandora's Box\", 'Akabeko', 'Whetstone', 'Pot...</td>\n",
       "      <td>[]</td>\n",
       "      <td>DEFECT</td>\n",
       "      <td>0</td>\n",
       "      <td>3</td>\n",
       "      <td>['M', '?', 'M', '?', '?', 'R', '?', 'R', 'T', ...</td>\n",
       "      <td>1</td>\n",
       "      <td>False</td>\n",
       "      <td>NaN</td>\n",
       "      <td>0</td>\n",
       "    </tr>\n",
       "    <tr>\n",
       "      <th>2</th>\n",
       "      <td>[99, 99]</td>\n",
       "      <td>0</td>\n",
       "      <td>['Strike_P', 'Strike_P', 'Strike_P', 'Strike_P...</td>\n",
       "      <td>['PureWater', 'NeowsBlessing']</td>\n",
       "      <td>[]</td>\n",
       "      <td>WATCHER</td>\n",
       "      <td>0</td>\n",
       "      <td>0</td>\n",
       "      <td>[]</td>\n",
       "      <td>0</td>\n",
       "      <td>False</td>\n",
       "      <td>NaN</td>\n",
       "      <td>0</td>\n",
       "    </tr>\n",
       "  </tbody>\n",
       "</table>\n",
       "</div>"
      ],
      "text/plain": [
       "                                    total_gold_spent  floor_reached  \\\n",
       "0  [114, 127, 127, 127, 145, 177, 177, 193, 193, ...             50   \n",
       "1  [118, 135, 145, 145, 165, 165, 240, 240, 264, ...             17   \n",
       "2                                           [99, 99]              0   \n",
       "\n",
       "                                     final_deck_size  \\\n",
       "0  ['Strike_R+1', 'Strike_R+1', 'Defend_R', 'Defe...   \n",
       "1  ['Zap+1', 'Dualcast', 'Ball Lightning+1', 'Cha...   \n",
       "2  ['Strike_P', 'Strike_P', 'Strike_P', 'Strike_P...   \n",
       "\n",
       "                                              relics      potions_used  \\\n",
       "0  ['Burning Blood', 'Ancient Tea Set', 'Ginger',...  [10, 16, 22, 50]   \n",
       "1  [\"Pandora's Box\", 'Akabeko', 'Whetstone', 'Pot...                []   \n",
       "2                     ['PureWater', 'NeowsBlessing']                []   \n",
       "\n",
       "  character_chosen  campfire_rested  campfire_upgraded  \\\n",
       "0         IRONCLAD                2                  9   \n",
       "1           DEFECT                0                  3   \n",
       "2          WATCHER                0                  0   \n",
       "\n",
       "                                       elites_killed  purchased_purges  \\\n",
       "0  ['M', 'M', '?', '?', 'M', 'E', 'R', 'M', 'T', ...                 4   \n",
       "1  ['M', '?', 'M', '?', '?', 'R', '?', 'R', 'T', ...                 1   \n",
       "2                                                 []                 0   \n",
       "\n",
       "   victory     killed_by  ascension_level  \n",
       "0    False  Awakened One                0  \n",
       "1    False           NaN                0  \n",
       "2    False           NaN                0  "
      ]
     },
     "execution_count": 10,
     "metadata": {},
     "output_type": "execute_result"
    }
   ],
   "source": [
    "df.head(3)"
   ]
  },
  {
   "cell_type": "code",
   "execution_count": 11,
   "id": "15a1b542",
   "metadata": {
    "ExecuteTime": {
     "end_time": "2023-06-18T15:16:05.841996Z",
     "start_time": "2023-06-18T15:16:03.408015Z"
    }
   },
   "outputs": [
    {
     "data": {
      "text/plain": [
       "total_gold_spent          0\n",
       "floor_reached             0\n",
       "final_deck_size           0\n",
       "relics                    0\n",
       "potions_used              0\n",
       "character_chosen          1\n",
       "campfire_rested           0\n",
       "campfire_upgraded         0\n",
       "elites_killed             0\n",
       "purchased_purges          0\n",
       "victory                   0\n",
       "killed_by            440376\n",
       "ascension_level           0\n",
       "dtype: int64"
      ]
     },
     "execution_count": 11,
     "metadata": {},
     "output_type": "execute_result"
    }
   ],
   "source": [
    "df.isna().sum()"
   ]
  },
  {
   "cell_type": "code",
   "execution_count": 12,
   "id": "9afec512",
   "metadata": {
    "ExecuteTime": {
     "end_time": "2023-06-18T15:16:06.152553Z",
     "start_time": "2023-06-18T15:16:05.845000Z"
    }
   },
   "outputs": [],
   "source": [
    "df = df[df[\"floor_reached\"].isin([0, 1, 2, 3]) == False]"
   ]
  },
  {
   "cell_type": "code",
   "execution_count": 13,
   "id": "bb61512c",
   "metadata": {
    "ExecuteTime": {
     "end_time": "2023-06-18T15:16:06.578240Z",
     "start_time": "2023-06-18T15:16:06.158536Z"
    }
   },
   "outputs": [],
   "source": [
    "df = df.loc[df[\"floor_reached\"] <= 55]"
   ]
  },
  {
   "cell_type": "code",
   "execution_count": 14,
   "id": "ed73d984",
   "metadata": {
    "ExecuteTime": {
     "end_time": "2023-06-18T15:16:07.068758Z",
     "start_time": "2023-06-18T15:16:06.581224Z"
    }
   },
   "outputs": [],
   "source": [
    "df = df.loc[df[\"ascension_level\"].isin([*range(0, 21)])]"
   ]
  },
  {
   "cell_type": "code",
   "execution_count": 15,
   "id": "7166f132",
   "metadata": {
    "ExecuteTime": {
     "end_time": "2023-06-18T15:16:07.652876Z",
     "start_time": "2023-06-18T15:16:07.071742Z"
    }
   },
   "outputs": [],
   "source": [
    "df = df[df[\"total_gold_spent\"] != \"[]\"]"
   ]
  },
  {
   "cell_type": "code",
   "execution_count": 16,
   "id": "136c2e99",
   "metadata": {
    "ExecuteTime": {
     "end_time": "2023-06-18T15:16:08.075448Z",
     "start_time": "2023-06-18T15:16:07.655877Z"
    }
   },
   "outputs": [],
   "source": [
    "df = df[df[\"purchased_purges\"] <= 8]"
   ]
  },
  {
   "cell_type": "code",
   "execution_count": 17,
   "id": "ff06d014",
   "metadata": {
    "ExecuteTime": {
     "end_time": "2023-06-18T15:16:08.169251Z",
     "start_time": "2023-06-18T15:16:08.079447Z"
    }
   },
   "outputs": [],
   "source": [
    "df.loc[(df[\"victory\"] == True) & (df[\"killed_by\"].isna()), \"killed_by\"] = \"None\""
   ]
  },
  {
   "cell_type": "code",
   "execution_count": 18,
   "id": "d4745e82",
   "metadata": {
    "ExecuteTime": {
     "end_time": "2023-06-18T15:16:08.261212Z",
     "start_time": "2023-06-18T15:16:08.172245Z"
    }
   },
   "outputs": [],
   "source": [
    "df[\"killed_by\"].fillna(\"Misc\", inplace=True)"
   ]
  },
  {
   "cell_type": "code",
   "execution_count": 19,
   "id": "b4ba51c3",
   "metadata": {
    "ExecuteTime": {
     "end_time": "2023-06-18T15:16:10.614338Z",
     "start_time": "2023-06-18T15:16:08.264211Z"
    }
   },
   "outputs": [],
   "source": [
    "df.dropna(inplace=True)"
   ]
  },
  {
   "cell_type": "code",
   "execution_count": 20,
   "id": "940e70b7",
   "metadata": {
    "ExecuteTime": {
     "end_time": "2023-06-18T15:16:10.630329Z",
     "start_time": "2023-06-18T15:16:10.617336Z"
    }
   },
   "outputs": [],
   "source": [
    "df.reset_index(inplace=True, drop=True)"
   ]
  },
  {
   "cell_type": "code",
   "execution_count": 21,
   "id": "ac30eec4",
   "metadata": {
    "ExecuteTime": {
     "end_time": "2023-06-18T15:16:12.522637Z",
     "start_time": "2023-06-18T15:16:10.634309Z"
    }
   },
   "outputs": [
    {
     "data": {
      "text/plain": [
       "total_gold_spent     0\n",
       "floor_reached        0\n",
       "final_deck_size      0\n",
       "relics               0\n",
       "potions_used         0\n",
       "character_chosen     0\n",
       "campfire_rested      0\n",
       "campfire_upgraded    0\n",
       "elites_killed        0\n",
       "purchased_purges     0\n",
       "victory              0\n",
       "killed_by            0\n",
       "ascension_level      0\n",
       "dtype: int64"
      ]
     },
     "execution_count": 21,
     "metadata": {},
     "output_type": "execute_result"
    }
   ],
   "source": [
    "df.isna().sum()"
   ]
  },
  {
   "cell_type": "code",
   "execution_count": 22,
   "id": "c93ad439",
   "metadata": {
    "ExecuteTime": {
     "end_time": "2023-06-18T15:16:12.548622Z",
     "start_time": "2023-06-18T15:16:12.527634Z"
    }
   },
   "outputs": [],
   "source": [
    "def calculate_gold_spent(gpr):\n",
    "    gold_per_run = []\n",
    "    for run in gpr:\n",
    "        list_of_strings = run.strip(\"][\").split(\", \")\n",
    "        list_of_ints = [eval(i) for i in list_of_strings]\n",
    "\n",
    "        gold = 0\n",
    "        for i, value in enumerate(list_of_ints[1:]):\n",
    "            if value < list_of_ints[i]:\n",
    "                gold += (list_of_ints[i] - value)\n",
    "\n",
    "        gold_per_run.append(gold)\n",
    "        \n",
    "    return gold_per_run"
   ]
  },
  {
   "cell_type": "code",
   "execution_count": 23,
   "id": "f0aa4e9b",
   "metadata": {
    "ExecuteTime": {
     "end_time": "2023-06-18T15:20:05.707950Z",
     "start_time": "2023-06-18T15:16:12.552619Z"
    }
   },
   "outputs": [],
   "source": [
    "total_gold_spent_per_run = calculate_gold_spent(df.loc[:, \"total_gold_spent\"])"
   ]
  },
  {
   "cell_type": "code",
   "execution_count": 24,
   "id": "22f7b75f",
   "metadata": {
    "ExecuteTime": {
     "end_time": "2023-06-18T15:20:05.723912Z",
     "start_time": "2023-06-18T15:20:05.710919Z"
    }
   },
   "outputs": [
    {
     "data": {
      "text/plain": [
       "(1782026, 1782026)"
      ]
     },
     "execution_count": 24,
     "metadata": {},
     "output_type": "execute_result"
    }
   ],
   "source": [
    "len(total_gold_spent_per_run), df.shape[0]"
   ]
  },
  {
   "cell_type": "code",
   "execution_count": 25,
   "id": "4c2a036e",
   "metadata": {
    "ExecuteTime": {
     "end_time": "2023-06-18T15:20:06.455214Z",
     "start_time": "2023-06-18T15:20:05.726910Z"
    }
   },
   "outputs": [],
   "source": [
    "df[\"total_gold_spent\"] = total_gold_spent_per_run"
   ]
  },
  {
   "cell_type": "code",
   "execution_count": 26,
   "id": "a1b762da",
   "metadata": {
    "ExecuteTime": {
     "end_time": "2023-06-18T15:20:06.470410Z",
     "start_time": "2023-06-18T15:20:06.458257Z"
    }
   },
   "outputs": [
    {
     "data": {
      "text/plain": [
       "2043515810"
      ]
     },
     "execution_count": 26,
     "metadata": {},
     "output_type": "execute_result"
    }
   ],
   "source": [
    "df[\"total_gold_spent\"].max()"
   ]
  },
  {
   "cell_type": "code",
   "execution_count": 27,
   "id": "d0680467",
   "metadata": {
    "ExecuteTime": {
     "end_time": "2023-06-18T15:20:06.564975Z",
     "start_time": "2023-06-18T15:20:06.473397Z"
    }
   },
   "outputs": [
    {
     "data": {
      "text/plain": [
       "count    1.782026e+06\n",
       "mean     2.119130e+03\n",
       "std      1.705916e+06\n",
       "min      0.000000e+00\n",
       "25%      8.100000e+01\n",
       "50%      2.840000e+02\n",
       "75%      5.160000e+02\n",
       "max      2.043516e+09\n",
       "Name: total_gold_spent, dtype: float64"
      ]
     },
     "execution_count": 27,
     "metadata": {},
     "output_type": "execute_result"
    }
   ],
   "source": [
    "df[\"total_gold_spent\"].describe()"
   ]
  },
  {
   "cell_type": "code",
   "execution_count": 28,
   "id": "901740a3",
   "metadata": {
    "ExecuteTime": {
     "end_time": "2023-06-18T15:20:06.643918Z",
     "start_time": "2023-06-18T15:20:06.567944Z"
    }
   },
   "outputs": [
    {
     "data": {
      "text/plain": [
       "2751"
      ]
     },
     "execution_count": 28,
     "metadata": {},
     "output_type": "execute_result"
    }
   ],
   "source": [
    "df.loc[df[\"total_gold_spent\"] > 2000].shape[0]"
   ]
  },
  {
   "cell_type": "code",
   "execution_count": 29,
   "id": "6484eaab",
   "metadata": {
    "ExecuteTime": {
     "end_time": "2023-06-18T15:20:06.972859Z",
     "start_time": "2023-06-18T15:20:06.647898Z"
    }
   },
   "outputs": [],
   "source": [
    "df = df.loc[df[\"total_gold_spent\"] < 2000]"
   ]
  },
  {
   "cell_type": "code",
   "execution_count": 30,
   "id": "06b7b14d",
   "metadata": {
    "ExecuteTime": {
     "end_time": "2023-06-18T15:20:07.003831Z",
     "start_time": "2023-06-18T15:20:06.975849Z"
    }
   },
   "outputs": [
    {
     "data": {
      "text/html": [
       "<div>\n",
       "<style scoped>\n",
       "    .dataframe tbody tr th:only-of-type {\n",
       "        vertical-align: middle;\n",
       "    }\n",
       "\n",
       "    .dataframe tbody tr th {\n",
       "        vertical-align: top;\n",
       "    }\n",
       "\n",
       "    .dataframe thead th {\n",
       "        text-align: right;\n",
       "    }\n",
       "</style>\n",
       "<table border=\"1\" class=\"dataframe\">\n",
       "  <thead>\n",
       "    <tr style=\"text-align: right;\">\n",
       "      <th></th>\n",
       "      <th>total_gold_spent</th>\n",
       "      <th>floor_reached</th>\n",
       "      <th>final_deck_size</th>\n",
       "      <th>relics</th>\n",
       "      <th>potions_used</th>\n",
       "      <th>character_chosen</th>\n",
       "      <th>campfire_rested</th>\n",
       "      <th>campfire_upgraded</th>\n",
       "      <th>elites_killed</th>\n",
       "      <th>purchased_purges</th>\n",
       "      <th>victory</th>\n",
       "      <th>killed_by</th>\n",
       "      <th>ascension_level</th>\n",
       "    </tr>\n",
       "  </thead>\n",
       "  <tbody>\n",
       "    <tr>\n",
       "      <th>0</th>\n",
       "      <td>689</td>\n",
       "      <td>50</td>\n",
       "      <td>['Strike_R+1', 'Strike_R+1', 'Defend_R', 'Defe...</td>\n",
       "      <td>['Burning Blood', 'Ancient Tea Set', 'Ginger',...</td>\n",
       "      <td>[10, 16, 22, 50]</td>\n",
       "      <td>IRONCLAD</td>\n",
       "      <td>2</td>\n",
       "      <td>9</td>\n",
       "      <td>['M', 'M', '?', '?', 'M', 'E', 'R', 'M', 'T', ...</td>\n",
       "      <td>4</td>\n",
       "      <td>False</td>\n",
       "      <td>Awakened One</td>\n",
       "      <td>0</td>\n",
       "    </tr>\n",
       "    <tr>\n",
       "      <th>1</th>\n",
       "      <td>265</td>\n",
       "      <td>17</td>\n",
       "      <td>['Zap+1', 'Dualcast', 'Ball Lightning+1', 'Cha...</td>\n",
       "      <td>[\"Pandora's Box\", 'Akabeko', 'Whetstone', 'Pot...</td>\n",
       "      <td>[]</td>\n",
       "      <td>DEFECT</td>\n",
       "      <td>0</td>\n",
       "      <td>3</td>\n",
       "      <td>['M', '?', 'M', '?', '?', 'R', '?', 'R', 'T', ...</td>\n",
       "      <td>1</td>\n",
       "      <td>False</td>\n",
       "      <td>Misc</td>\n",
       "      <td>0</td>\n",
       "    </tr>\n",
       "    <tr>\n",
       "      <th>2</th>\n",
       "      <td>1054</td>\n",
       "      <td>51</td>\n",
       "      <td>['AscendersBane', 'Strike_G+1', 'Strike_G', 'D...</td>\n",
       "      <td>['Ring of the Snake', 'Meat on the Bone', 'Anc...</td>\n",
       "      <td>[10, 23, 23, 28, 42, 47, 50, 50]</td>\n",
       "      <td>THE_SILENT</td>\n",
       "      <td>2</td>\n",
       "      <td>3</td>\n",
       "      <td>['M', 'M', 'M', 'M', '$', 'E', '?', 'E', 'T', ...</td>\n",
       "      <td>2</td>\n",
       "      <td>True</td>\n",
       "      <td>None</td>\n",
       "      <td>13</td>\n",
       "    </tr>\n",
       "  </tbody>\n",
       "</table>\n",
       "</div>"
      ],
      "text/plain": [
       "   total_gold_spent  floor_reached  \\\n",
       "0               689             50   \n",
       "1               265             17   \n",
       "2              1054             51   \n",
       "\n",
       "                                     final_deck_size  \\\n",
       "0  ['Strike_R+1', 'Strike_R+1', 'Defend_R', 'Defe...   \n",
       "1  ['Zap+1', 'Dualcast', 'Ball Lightning+1', 'Cha...   \n",
       "2  ['AscendersBane', 'Strike_G+1', 'Strike_G', 'D...   \n",
       "\n",
       "                                              relics  \\\n",
       "0  ['Burning Blood', 'Ancient Tea Set', 'Ginger',...   \n",
       "1  [\"Pandora's Box\", 'Akabeko', 'Whetstone', 'Pot...   \n",
       "2  ['Ring of the Snake', 'Meat on the Bone', 'Anc...   \n",
       "\n",
       "                       potions_used character_chosen  campfire_rested  \\\n",
       "0                  [10, 16, 22, 50]         IRONCLAD                2   \n",
       "1                                []           DEFECT                0   \n",
       "2  [10, 23, 23, 28, 42, 47, 50, 50]       THE_SILENT                2   \n",
       "\n",
       "   campfire_upgraded                                      elites_killed  \\\n",
       "0                  9  ['M', 'M', '?', '?', 'M', 'E', 'R', 'M', 'T', ...   \n",
       "1                  3  ['M', '?', 'M', '?', '?', 'R', '?', 'R', 'T', ...   \n",
       "2                  3  ['M', 'M', 'M', 'M', '$', 'E', '?', 'E', 'T', ...   \n",
       "\n",
       "   purchased_purges  victory     killed_by  ascension_level  \n",
       "0                 4    False  Awakened One                0  \n",
       "1                 1    False          Misc                0  \n",
       "2                 2     True          None               13  "
      ]
     },
     "execution_count": 30,
     "metadata": {},
     "output_type": "execute_result"
    }
   ],
   "source": [
    "df.head(3)"
   ]
  },
  {
   "cell_type": "code",
   "execution_count": 31,
   "id": "4b06b401",
   "metadata": {
    "ExecuteTime": {
     "end_time": "2023-06-18T15:20:07.033816Z",
     "start_time": "2023-06-18T15:20:07.018823Z"
    }
   },
   "outputs": [],
   "source": [
    "def calculate_deck_size(dspr):\n",
    "    deck_sizes = []\n",
    "    for deck in dspr:\n",
    "        list_of_strings = deck.strip(\"][\").split(\", \")\n",
    "        deck_sizes.append(len(list_of_strings))\n",
    "        \n",
    "    return deck_sizes"
   ]
  },
  {
   "cell_type": "code",
   "execution_count": 32,
   "id": "00d37b4a",
   "metadata": {
    "ExecuteTime": {
     "end_time": "2023-06-18T15:20:10.246992Z",
     "start_time": "2023-06-18T15:20:07.037811Z"
    }
   },
   "outputs": [],
   "source": [
    "deck_size_per_run = calculate_deck_size(df.loc[:, \"final_deck_size\"])"
   ]
  },
  {
   "cell_type": "code",
   "execution_count": 33,
   "id": "9d0a8104",
   "metadata": {
    "ExecuteTime": {
     "end_time": "2023-06-18T15:20:10.261959Z",
     "start_time": "2023-06-18T15:20:10.248985Z"
    }
   },
   "outputs": [
    {
     "data": {
      "text/plain": [
       "(1779271, 1779271)"
      ]
     },
     "execution_count": 33,
     "metadata": {},
     "output_type": "execute_result"
    }
   ],
   "source": [
    "len(deck_size_per_run), df.shape[0]"
   ]
  },
  {
   "cell_type": "code",
   "execution_count": 34,
   "id": "b07567cc",
   "metadata": {
    "ExecuteTime": {
     "end_time": "2023-06-18T15:20:10.716716Z",
     "start_time": "2023-06-18T15:20:10.265956Z"
    }
   },
   "outputs": [],
   "source": [
    "df[\"final_deck_size\"] = deck_size_per_run"
   ]
  },
  {
   "cell_type": "code",
   "execution_count": 35,
   "id": "fb4a6ffb",
   "metadata": {
    "ExecuteTime": {
     "end_time": "2023-06-18T15:20:10.732716Z",
     "start_time": "2023-06-18T15:20:10.719694Z"
    }
   },
   "outputs": [
    {
     "data": {
      "text/plain": [
       "183"
      ]
     },
     "execution_count": 35,
     "metadata": {},
     "output_type": "execute_result"
    }
   ],
   "source": [
    "df[\"final_deck_size\"].max()"
   ]
  },
  {
   "cell_type": "code",
   "execution_count": 36,
   "id": "650a56ba",
   "metadata": {
    "ExecuteTime": {
     "end_time": "2023-06-18T15:20:10.810779Z",
     "start_time": "2023-06-18T15:20:10.735685Z"
    }
   },
   "outputs": [
    {
     "data": {
      "text/plain": [
       "count    1.779271e+06\n",
       "mean     2.128707e+01\n",
       "std      7.459112e+00\n",
       "min      1.000000e+00\n",
       "25%      1.600000e+01\n",
       "50%      2.000000e+01\n",
       "75%      2.500000e+01\n",
       "max      1.830000e+02\n",
       "Name: final_deck_size, dtype: float64"
      ]
     },
     "execution_count": 36,
     "metadata": {},
     "output_type": "execute_result"
    }
   ],
   "source": [
    "df[\"final_deck_size\"].describe()"
   ]
  },
  {
   "cell_type": "code",
   "execution_count": 37,
   "id": "5259f13f",
   "metadata": {
    "ExecuteTime": {
     "end_time": "2023-06-18T15:20:10.889012Z",
     "start_time": "2023-06-18T15:20:10.813779Z"
    }
   },
   "outputs": [
    {
     "data": {
      "text/plain": [
       "543"
      ]
     },
     "execution_count": 37,
     "metadata": {},
     "output_type": "execute_result"
    }
   ],
   "source": [
    "df[df[\"final_deck_size\"] > 55].shape[0]"
   ]
  },
  {
   "cell_type": "code",
   "execution_count": 38,
   "id": "df05cc3e",
   "metadata": {
    "ExecuteTime": {
     "end_time": "2023-06-18T15:20:11.092512Z",
     "start_time": "2023-06-18T15:20:10.892030Z"
    }
   },
   "outputs": [],
   "source": [
    "df = df.loc[df[\"final_deck_size\"] <= 55]"
   ]
  },
  {
   "cell_type": "code",
   "execution_count": 39,
   "id": "75dd316c",
   "metadata": {
    "ExecuteTime": {
     "end_time": "2023-06-18T15:20:11.123494Z",
     "start_time": "2023-06-18T15:20:11.095513Z"
    }
   },
   "outputs": [
    {
     "data": {
      "text/html": [
       "<div>\n",
       "<style scoped>\n",
       "    .dataframe tbody tr th:only-of-type {\n",
       "        vertical-align: middle;\n",
       "    }\n",
       "\n",
       "    .dataframe tbody tr th {\n",
       "        vertical-align: top;\n",
       "    }\n",
       "\n",
       "    .dataframe thead th {\n",
       "        text-align: right;\n",
       "    }\n",
       "</style>\n",
       "<table border=\"1\" class=\"dataframe\">\n",
       "  <thead>\n",
       "    <tr style=\"text-align: right;\">\n",
       "      <th></th>\n",
       "      <th>total_gold_spent</th>\n",
       "      <th>floor_reached</th>\n",
       "      <th>final_deck_size</th>\n",
       "      <th>relics</th>\n",
       "      <th>potions_used</th>\n",
       "      <th>character_chosen</th>\n",
       "      <th>campfire_rested</th>\n",
       "      <th>campfire_upgraded</th>\n",
       "      <th>elites_killed</th>\n",
       "      <th>purchased_purges</th>\n",
       "      <th>victory</th>\n",
       "      <th>killed_by</th>\n",
       "      <th>ascension_level</th>\n",
       "    </tr>\n",
       "  </thead>\n",
       "  <tbody>\n",
       "    <tr>\n",
       "      <th>0</th>\n",
       "      <td>689</td>\n",
       "      <td>50</td>\n",
       "      <td>25</td>\n",
       "      <td>['Burning Blood', 'Ancient Tea Set', 'Ginger',...</td>\n",
       "      <td>[10, 16, 22, 50]</td>\n",
       "      <td>IRONCLAD</td>\n",
       "      <td>2</td>\n",
       "      <td>9</td>\n",
       "      <td>['M', 'M', '?', '?', 'M', 'E', 'R', 'M', 'T', ...</td>\n",
       "      <td>4</td>\n",
       "      <td>False</td>\n",
       "      <td>Awakened One</td>\n",
       "      <td>0</td>\n",
       "    </tr>\n",
       "    <tr>\n",
       "      <th>1</th>\n",
       "      <td>265</td>\n",
       "      <td>17</td>\n",
       "      <td>15</td>\n",
       "      <td>[\"Pandora's Box\", 'Akabeko', 'Whetstone', 'Pot...</td>\n",
       "      <td>[]</td>\n",
       "      <td>DEFECT</td>\n",
       "      <td>0</td>\n",
       "      <td>3</td>\n",
       "      <td>['M', '?', 'M', '?', '?', 'R', '?', 'R', 'T', ...</td>\n",
       "      <td>1</td>\n",
       "      <td>False</td>\n",
       "      <td>Misc</td>\n",
       "      <td>0</td>\n",
       "    </tr>\n",
       "    <tr>\n",
       "      <th>2</th>\n",
       "      <td>1054</td>\n",
       "      <td>51</td>\n",
       "      <td>34</td>\n",
       "      <td>['Ring of the Snake', 'Meat on the Bone', 'Anc...</td>\n",
       "      <td>[10, 23, 23, 28, 42, 47, 50, 50]</td>\n",
       "      <td>THE_SILENT</td>\n",
       "      <td>2</td>\n",
       "      <td>3</td>\n",
       "      <td>['M', 'M', 'M', 'M', '$', 'E', '?', 'E', 'T', ...</td>\n",
       "      <td>2</td>\n",
       "      <td>True</td>\n",
       "      <td>None</td>\n",
       "      <td>13</td>\n",
       "    </tr>\n",
       "  </tbody>\n",
       "</table>\n",
       "</div>"
      ],
      "text/plain": [
       "   total_gold_spent  floor_reached  final_deck_size  \\\n",
       "0               689             50               25   \n",
       "1               265             17               15   \n",
       "2              1054             51               34   \n",
       "\n",
       "                                              relics  \\\n",
       "0  ['Burning Blood', 'Ancient Tea Set', 'Ginger',...   \n",
       "1  [\"Pandora's Box\", 'Akabeko', 'Whetstone', 'Pot...   \n",
       "2  ['Ring of the Snake', 'Meat on the Bone', 'Anc...   \n",
       "\n",
       "                       potions_used character_chosen  campfire_rested  \\\n",
       "0                  [10, 16, 22, 50]         IRONCLAD                2   \n",
       "1                                []           DEFECT                0   \n",
       "2  [10, 23, 23, 28, 42, 47, 50, 50]       THE_SILENT                2   \n",
       "\n",
       "   campfire_upgraded                                      elites_killed  \\\n",
       "0                  9  ['M', 'M', '?', '?', 'M', 'E', 'R', 'M', 'T', ...   \n",
       "1                  3  ['M', '?', 'M', '?', '?', 'R', '?', 'R', 'T', ...   \n",
       "2                  3  ['M', 'M', 'M', 'M', '$', 'E', '?', 'E', 'T', ...   \n",
       "\n",
       "   purchased_purges  victory     killed_by  ascension_level  \n",
       "0                 4    False  Awakened One                0  \n",
       "1                 1    False          Misc                0  \n",
       "2                 2     True          None               13  "
      ]
     },
     "execution_count": 39,
     "metadata": {},
     "output_type": "execute_result"
    }
   ],
   "source": [
    "df.head(3)"
   ]
  },
  {
   "cell_type": "code",
   "execution_count": 40,
   "id": "6329cf83",
   "metadata": {
    "ExecuteTime": {
     "end_time": "2023-06-18T15:20:11.139090Z",
     "start_time": "2023-06-18T15:20:11.126492Z"
    }
   },
   "outputs": [],
   "source": [
    "def calculate_relic_frequency(lists):\n",
    "    result = {}\n",
    "    for i, lst in enumerate(lists):\n",
    "        list_of_strings = lst.strip(\"][\").replace(\"\\\"\", \"\").replace(\"\\'\", \"\").split(\", \")\n",
    "        for relic in list_of_strings:\n",
    "            result.setdefault(relic, set()).add(i)\n",
    "    \n",
    "    final = {}\n",
    "    for i, count in result.items():\n",
    "        final[i] = {\"Frequency\": len(count), \"Occurs\": list(count)}\n",
    "        \n",
    "    return final"
   ]
  },
  {
   "cell_type": "code",
   "execution_count": 41,
   "id": "69a01c9a",
   "metadata": {
    "ExecuteTime": {
     "end_time": "2023-06-18T15:20:21.321300Z",
     "start_time": "2023-06-18T15:20:11.142107Z"
    }
   },
   "outputs": [],
   "source": [
    "total_relic_frequency = calculate_relic_frequency(df.loc[:, \"relics\"])"
   ]
  },
  {
   "cell_type": "code",
   "execution_count": 42,
   "id": "eb03164b",
   "metadata": {
    "ExecuteTime": {
     "end_time": "2023-06-18T15:20:21.337307Z",
     "start_time": "2023-06-18T15:20:21.324318Z"
    }
   },
   "outputs": [
    {
     "data": {
      "text/plain": [
       "180"
      ]
     },
     "execution_count": 42,
     "metadata": {},
     "output_type": "execute_result"
    }
   ],
   "source": [
    "len(total_relic_frequency)"
   ]
  },
  {
   "cell_type": "code",
   "execution_count": 43,
   "id": "d5e8a0da",
   "metadata": {
    "ExecuteTime": {
     "end_time": "2023-06-18T15:20:21.353316Z",
     "start_time": "2023-06-18T15:20:21.340310Z"
    }
   },
   "outputs": [],
   "source": [
    "def calculate_relic_count(rcpr):\n",
    "    relic_counts = []\n",
    "    for relics in rcpr:\n",
    "        list_of_strings = relics.strip(\"][\").split(\", \")\n",
    "        relic_counts.append(len(list_of_strings))\n",
    "        \n",
    "    return relic_counts"
   ]
  },
  {
   "cell_type": "code",
   "execution_count": 44,
   "id": "450f88c0",
   "metadata": {
    "ExecuteTime": {
     "end_time": "2023-06-18T15:20:23.044812Z",
     "start_time": "2023-06-18T15:20:21.357300Z"
    }
   },
   "outputs": [],
   "source": [
    "relic_count_per_run = calculate_relic_count(df.loc[:, \"relics\"])"
   ]
  },
  {
   "cell_type": "code",
   "execution_count": 45,
   "id": "2a1f760a",
   "metadata": {
    "ExecuteTime": {
     "end_time": "2023-06-18T15:20:23.059860Z",
     "start_time": "2023-06-18T15:20:23.047817Z"
    }
   },
   "outputs": [
    {
     "data": {
      "text/plain": [
       "(1778728, 1778728)"
      ]
     },
     "execution_count": 45,
     "metadata": {},
     "output_type": "execute_result"
    }
   ],
   "source": [
    "len(relic_count_per_run), df.shape[0]"
   ]
  },
  {
   "cell_type": "code",
   "execution_count": 46,
   "id": "e5b22700",
   "metadata": {
    "ExecuteTime": {
     "end_time": "2023-06-18T15:20:23.511359Z",
     "start_time": "2023-06-18T15:20:23.063846Z"
    }
   },
   "outputs": [],
   "source": [
    "df[\"relics\"] = relic_count_per_run"
   ]
  },
  {
   "cell_type": "code",
   "execution_count": 47,
   "id": "66416bce",
   "metadata": {
    "ExecuteTime": {
     "end_time": "2023-06-18T15:20:23.527364Z",
     "start_time": "2023-06-18T15:20:23.514372Z"
    }
   },
   "outputs": [
    {
     "data": {
      "text/plain": [
       "177"
      ]
     },
     "execution_count": 47,
     "metadata": {},
     "output_type": "execute_result"
    }
   ],
   "source": [
    "df[\"relics\"].max()"
   ]
  },
  {
   "cell_type": "code",
   "execution_count": 48,
   "id": "edb7ce0a",
   "metadata": {
    "ExecuteTime": {
     "end_time": "2023-06-18T15:20:23.620481Z",
     "start_time": "2023-06-18T15:20:23.531350Z"
    }
   },
   "outputs": [
    {
     "data": {
      "text/plain": [
       "count    1.778728e+06\n",
       "mean     8.423389e+00\n",
       "std      5.425349e+00\n",
       "min      1.000000e+00\n",
       "25%      4.000000e+00\n",
       "50%      7.000000e+00\n",
       "75%      1.100000e+01\n",
       "max      1.770000e+02\n",
       "Name: relics, dtype: float64"
      ]
     },
     "execution_count": 48,
     "metadata": {},
     "output_type": "execute_result"
    }
   ],
   "source": [
    "df[\"relics\"].describe()"
   ]
  },
  {
   "cell_type": "code",
   "execution_count": 49,
   "id": "e68c83b0",
   "metadata": {
    "ExecuteTime": {
     "end_time": "2023-06-18T15:20:23.698434Z",
     "start_time": "2023-06-18T15:20:23.623478Z"
    }
   },
   "outputs": [
    {
     "data": {
      "text/plain": [
       "1628"
      ]
     },
     "execution_count": 49,
     "metadata": {},
     "output_type": "execute_result"
    }
   ],
   "source": [
    "df[df[\"relics\"] > 30].shape[0]"
   ]
  },
  {
   "cell_type": "code",
   "execution_count": 50,
   "id": "aed67cc2",
   "metadata": {
    "ExecuteTime": {
     "end_time": "2023-06-18T15:20:23.870337Z",
     "start_time": "2023-06-18T15:20:23.701433Z"
    }
   },
   "outputs": [],
   "source": [
    "df = df.loc[df[\"relics\"] <= 30]"
   ]
  },
  {
   "cell_type": "code",
   "execution_count": 51,
   "id": "98611c54",
   "metadata": {
    "ExecuteTime": {
     "end_time": "2023-06-18T15:20:23.885827Z",
     "start_time": "2023-06-18T15:20:23.872816Z"
    }
   },
   "outputs": [
    {
     "data": {
      "text/html": [
       "<div>\n",
       "<style scoped>\n",
       "    .dataframe tbody tr th:only-of-type {\n",
       "        vertical-align: middle;\n",
       "    }\n",
       "\n",
       "    .dataframe tbody tr th {\n",
       "        vertical-align: top;\n",
       "    }\n",
       "\n",
       "    .dataframe thead th {\n",
       "        text-align: right;\n",
       "    }\n",
       "</style>\n",
       "<table border=\"1\" class=\"dataframe\">\n",
       "  <thead>\n",
       "    <tr style=\"text-align: right;\">\n",
       "      <th></th>\n",
       "      <th>total_gold_spent</th>\n",
       "      <th>floor_reached</th>\n",
       "      <th>final_deck_size</th>\n",
       "      <th>relics</th>\n",
       "      <th>potions_used</th>\n",
       "      <th>character_chosen</th>\n",
       "      <th>campfire_rested</th>\n",
       "      <th>campfire_upgraded</th>\n",
       "      <th>elites_killed</th>\n",
       "      <th>purchased_purges</th>\n",
       "      <th>victory</th>\n",
       "      <th>killed_by</th>\n",
       "      <th>ascension_level</th>\n",
       "    </tr>\n",
       "  </thead>\n",
       "  <tbody>\n",
       "    <tr>\n",
       "      <th>0</th>\n",
       "      <td>689</td>\n",
       "      <td>50</td>\n",
       "      <td>25</td>\n",
       "      <td>15</td>\n",
       "      <td>[10, 16, 22, 50]</td>\n",
       "      <td>IRONCLAD</td>\n",
       "      <td>2</td>\n",
       "      <td>9</td>\n",
       "      <td>['M', 'M', '?', '?', 'M', 'E', 'R', 'M', 'T', ...</td>\n",
       "      <td>4</td>\n",
       "      <td>False</td>\n",
       "      <td>Awakened One</td>\n",
       "      <td>0</td>\n",
       "    </tr>\n",
       "    <tr>\n",
       "      <th>1</th>\n",
       "      <td>265</td>\n",
       "      <td>17</td>\n",
       "      <td>15</td>\n",
       "      <td>4</td>\n",
       "      <td>[]</td>\n",
       "      <td>DEFECT</td>\n",
       "      <td>0</td>\n",
       "      <td>3</td>\n",
       "      <td>['M', '?', 'M', '?', '?', 'R', '?', 'R', 'T', ...</td>\n",
       "      <td>1</td>\n",
       "      <td>False</td>\n",
       "      <td>Misc</td>\n",
       "      <td>0</td>\n",
       "    </tr>\n",
       "    <tr>\n",
       "      <th>2</th>\n",
       "      <td>1054</td>\n",
       "      <td>51</td>\n",
       "      <td>34</td>\n",
       "      <td>20</td>\n",
       "      <td>[10, 23, 23, 28, 42, 47, 50, 50]</td>\n",
       "      <td>THE_SILENT</td>\n",
       "      <td>2</td>\n",
       "      <td>3</td>\n",
       "      <td>['M', 'M', 'M', 'M', '$', 'E', '?', 'E', 'T', ...</td>\n",
       "      <td>2</td>\n",
       "      <td>True</td>\n",
       "      <td>None</td>\n",
       "      <td>13</td>\n",
       "    </tr>\n",
       "  </tbody>\n",
       "</table>\n",
       "</div>"
      ],
      "text/plain": [
       "   total_gold_spent  floor_reached  final_deck_size  relics  \\\n",
       "0               689             50               25      15   \n",
       "1               265             17               15       4   \n",
       "2              1054             51               34      20   \n",
       "\n",
       "                       potions_used character_chosen  campfire_rested  \\\n",
       "0                  [10, 16, 22, 50]         IRONCLAD                2   \n",
       "1                                []           DEFECT                0   \n",
       "2  [10, 23, 23, 28, 42, 47, 50, 50]       THE_SILENT                2   \n",
       "\n",
       "   campfire_upgraded                                      elites_killed  \\\n",
       "0                  9  ['M', 'M', '?', '?', 'M', 'E', 'R', 'M', 'T', ...   \n",
       "1                  3  ['M', '?', 'M', '?', '?', 'R', '?', 'R', 'T', ...   \n",
       "2                  3  ['M', 'M', 'M', 'M', '$', 'E', '?', 'E', 'T', ...   \n",
       "\n",
       "   purchased_purges  victory     killed_by  ascension_level  \n",
       "0                 4    False  Awakened One                0  \n",
       "1                 1    False          Misc                0  \n",
       "2                 2     True          None               13  "
      ]
     },
     "execution_count": 51,
     "metadata": {},
     "output_type": "execute_result"
    }
   ],
   "source": [
    "df.head(3)"
   ]
  },
  {
   "cell_type": "code",
   "execution_count": 52,
   "id": "fd935bfd",
   "metadata": {
    "ExecuteTime": {
     "end_time": "2023-06-18T15:20:23.900725Z",
     "start_time": "2023-06-18T15:20:23.888826Z"
    }
   },
   "outputs": [],
   "source": [
    "def calculate_potions_used(pupr):\n",
    "    potion_counts = []\n",
    "    for potions in pupr:\n",
    "        list_of_strings = potions.strip(\"][\").split(\", \")\n",
    "        try:\n",
    "            list_of_ints = [eval(i) for i in list_of_strings]\n",
    "            potion_counts.append(len(list_of_ints))\n",
    "        except:\n",
    "            potion_counts.append(0)\n",
    "        \n",
    "    return potion_counts"
   ]
  },
  {
   "cell_type": "code",
   "execution_count": 53,
   "id": "302c924c",
   "metadata": {
    "ExecuteTime": {
     "end_time": "2023-06-18T15:20:53.446089Z",
     "start_time": "2023-06-18T15:20:23.903745Z"
    }
   },
   "outputs": [],
   "source": [
    "potions_used_per_run = calculate_potions_used(df.loc[:, \"potions_used\"])"
   ]
  },
  {
   "cell_type": "code",
   "execution_count": 54,
   "id": "ce86ead7",
   "metadata": {
    "ExecuteTime": {
     "end_time": "2023-06-18T15:20:53.462069Z",
     "start_time": "2023-06-18T15:20:53.449058Z"
    }
   },
   "outputs": [
    {
     "data": {
      "text/plain": [
       "(1777100, 1777100)"
      ]
     },
     "execution_count": 54,
     "metadata": {},
     "output_type": "execute_result"
    }
   ],
   "source": [
    "len(potions_used_per_run), df.shape[0]"
   ]
  },
  {
   "cell_type": "code",
   "execution_count": 55,
   "id": "4a8700d5",
   "metadata": {
    "ExecuteTime": {
     "end_time": "2023-06-18T15:20:53.884990Z",
     "start_time": "2023-06-18T15:20:53.466049Z"
    }
   },
   "outputs": [],
   "source": [
    "df[\"potions_used\"] = potions_used_per_run"
   ]
  },
  {
   "cell_type": "code",
   "execution_count": 56,
   "id": "dc86676d",
   "metadata": {
    "ExecuteTime": {
     "end_time": "2023-06-18T15:20:53.900836Z",
     "start_time": "2023-06-18T15:20:53.887820Z"
    }
   },
   "outputs": [
    {
     "data": {
      "text/plain": [
       "102"
      ]
     },
     "execution_count": 56,
     "metadata": {},
     "output_type": "execute_result"
    }
   ],
   "source": [
    "df[\"potions_used\"].max()"
   ]
  },
  {
   "cell_type": "code",
   "execution_count": 57,
   "id": "8405bbba",
   "metadata": {
    "ExecuteTime": {
     "end_time": "2023-06-18T15:20:54.024017Z",
     "start_time": "2023-06-18T15:20:53.902825Z"
    }
   },
   "outputs": [
    {
     "data": {
      "text/plain": [
       "count    1.777100e+06\n",
       "mean     3.456106e+00\n",
       "std      3.652226e+00\n",
       "min      0.000000e+00\n",
       "25%      1.000000e+00\n",
       "50%      2.000000e+00\n",
       "75%      5.000000e+00\n",
       "max      1.020000e+02\n",
       "Name: potions_used, dtype: float64"
      ]
     },
     "execution_count": 57,
     "metadata": {},
     "output_type": "execute_result"
    }
   ],
   "source": [
    "df[\"potions_used\"].describe()"
   ]
  },
  {
   "cell_type": "code",
   "execution_count": 58,
   "id": "65d02746",
   "metadata": {
    "ExecuteTime": {
     "end_time": "2023-06-18T15:20:54.039969Z",
     "start_time": "2023-06-18T15:20:54.026035Z"
    }
   },
   "outputs": [],
   "source": [
    "def calculate_elite_fights(efpr):\n",
    "    elite_counts = []\n",
    "    for elite in efpr:\n",
    "        elite_counts.append(elite.count(\"E\"))\n",
    "        \n",
    "    return elite_counts"
   ]
  },
  {
   "cell_type": "code",
   "execution_count": 59,
   "id": "88778a02",
   "metadata": {
    "ExecuteTime": {
     "end_time": "2023-06-18T15:20:54.648086Z",
     "start_time": "2023-06-18T15:20:54.042001Z"
    }
   },
   "outputs": [],
   "source": [
    "elite_fights_per_run = calculate_elite_fights(df.loc[:, \"elites_killed\"])"
   ]
  },
  {
   "cell_type": "code",
   "execution_count": 60,
   "id": "7c5fa082",
   "metadata": {
    "ExecuteTime": {
     "end_time": "2023-06-18T15:20:54.663230Z",
     "start_time": "2023-06-18T15:20:54.651071Z"
    }
   },
   "outputs": [
    {
     "data": {
      "text/plain": [
       "(1777100, 1777100)"
      ]
     },
     "execution_count": 60,
     "metadata": {},
     "output_type": "execute_result"
    }
   ],
   "source": [
    "len(elite_fights_per_run), df.shape[0]"
   ]
  },
  {
   "cell_type": "code",
   "execution_count": 61,
   "id": "1ee5c768",
   "metadata": {
    "ExecuteTime": {
     "end_time": "2023-06-18T15:20:55.084248Z",
     "start_time": "2023-06-18T15:20:54.665218Z"
    }
   },
   "outputs": [],
   "source": [
    "df[\"elites_killed\"] = elite_fights_per_run"
   ]
  },
  {
   "cell_type": "code",
   "execution_count": 62,
   "id": "e657b50b",
   "metadata": {
    "ExecuteTime": {
     "end_time": "2023-06-18T15:20:55.100146Z",
     "start_time": "2023-06-18T15:20:55.087248Z"
    }
   },
   "outputs": [
    {
     "data": {
      "text/plain": [
       "14"
      ]
     },
     "execution_count": 62,
     "metadata": {},
     "output_type": "execute_result"
    }
   ],
   "source": [
    "df[\"elites_killed\"].max()"
   ]
  },
  {
   "cell_type": "code",
   "execution_count": 63,
   "id": "a466793a",
   "metadata": {
    "ExecuteTime": {
     "end_time": "2023-06-18T15:20:55.177311Z",
     "start_time": "2023-06-18T15:20:55.103130Z"
    }
   },
   "outputs": [
    {
     "data": {
      "text/plain": [
       "count    1.777100e+06\n",
       "mean     2.525753e+00\n",
       "std      1.893028e+00\n",
       "min      0.000000e+00\n",
       "25%      1.000000e+00\n",
       "50%      2.000000e+00\n",
       "75%      3.000000e+00\n",
       "max      1.400000e+01\n",
       "Name: elites_killed, dtype: float64"
      ]
     },
     "execution_count": 63,
     "metadata": {},
     "output_type": "execute_result"
    }
   ],
   "source": [
    "df[\"elites_killed\"].describe()"
   ]
  },
  {
   "cell_type": "code",
   "execution_count": 64,
   "id": "fdb94365",
   "metadata": {
    "ExecuteTime": {
     "end_time": "2023-06-18T15:20:55.193413Z",
     "start_time": "2023-06-18T15:20:55.179284Z"
    }
   },
   "outputs": [],
   "source": [
    "df.reset_index(inplace=True, drop=True)"
   ]
  },
  {
   "cell_type": "code",
   "execution_count": 65,
   "id": "c4fa335e",
   "metadata": {
    "ExecuteTime": {
     "end_time": "2023-06-18T15:21:01.004079Z",
     "start_time": "2023-06-18T15:20:55.196381Z"
    }
   },
   "outputs": [],
   "source": [
    "df.to_csv(\"data/full/full_prepared.csv\", index=False)"
   ]
  },
  {
   "cell_type": "markdown",
   "id": "4c8426c9",
   "metadata": {},
   "source": [
    "# Data Understanding"
   ]
  },
  {
   "cell_type": "markdown",
   "id": "5d9dc68b",
   "metadata": {},
   "source": [
    "Before exploring any data, it's first important to explain the <span style=\"color:#D0221a;\">Ascension</span> mechanic within Slay the Spire. After successfully besting the final boss of a run, it's possible to toggle <span style=\"color:#D0221a;\">Ascension</span>, which provides additional challenge during subsequent runs. Each time a level is beaten, the next <span style=\"color:#D0221a;\">Ascension</span> level is unlocked. There are twenty difficulty levels in total with each level adding additional challenge in different ways. The <span style=\"color:#D0221a;\">Ascension</span> modifiers, in order, are:\n",
    "\n",
    "- <span style=\"color:#D0221a;\">Ascension 1</span>: Elites spawn 60% more often\n",
    "- <span style=\"color:#D0221a;\">Ascension 2</span>: Normal enemies deal more damage with their attacks\n",
    "- <span style=\"color:#D0221a;\">Ascension 3</span>: Elites deal more damage with their attacks\n",
    "- <span style=\"color:#D0221a;\">Ascension 4</span>: Bosses deal more damage with their attacks\n",
    "- <span style=\"color:#D0221a;\">Ascension 5</span>: Heal for 75% of your HP after boss battles instead of 100%\n",
    "- <span style=\"color:#D0221a;\">Ascension 6</span>: Lose 10% of your health at the start of each run\n",
    "- <span style=\"color:#D0221a;\">Ascension 7</span>: Normal enemies have more HP and some gain higher block\n",
    "- <span style=\"color:#D0221a;\">Ascension 8</span>: Elites have more HP\n",
    "- <span style=\"color:#D0221a;\">Ascension 9</span>: Bosses have more HP and some gain higher block\n",
    "- <span style=\"color:#D0221a;\">Ascension 10</span>: Obtain 1 Ascender's Bane at the start of each run\n",
    "- <span style=\"color:#D0221a;\">Ascension 11</span>: Start each run with 1 less potion slot\n",
    "- <span style=\"color:#D0221a;\">Ascension 12</span>: Upgraded cards are 50% less likely to appear in act 2 and act 3\n",
    "- <span style=\"color:#D0221a;\">Ascension 13</span>: Bosses drop 25% less gold\n",
    "- <span style=\"color:#D0221a;\">Ascension 14</span>: Lower your maximum HP (-5 for Ironclad, 4 for the other classes)\n",
    "- <span style=\"color:#D0221a;\">Ascension 15</span>: Events have less positive outcomes and more severe consequences\n",
    "- <span style=\"color:#D0221a;\">Ascension 16</span>: Everything in shops costs 10% more\n",
    "- <span style=\"color:#D0221a;\">Ascension 17</span>: Normal enemies have more challenging movesets and abilities\n",
    "- <span style=\"color:#D0221a;\">Ascension 18</span>: Elites have more challenging movesets and abilities\n",
    "- <span style=\"color:#D0221a;\">Ascension 19</span>: Bosses have more challenging movesets and abilities\n",
    "- <span style=\"color:#D0221a;\">Ascension 20</span>: You fight two bosses in a row at the end of act 3"
   ]
  },
  {
   "cell_type": "markdown",
   "id": "a3da4fff",
   "metadata": {},
   "source": [
    "As the modifiers stack up, nearly every aspect of the game becomes more difficult and nearly every avenue of player strength is crippled in some way. There is a vast difference in difficulty between the base game and <span style=\"color:#D0221a;\">Ascension 20</span>, and for that reason, <span style=\"color:#D0221a;\">Ascension 20</span> will receive additional inspection at all times."
   ]
  },
  {
   "cell_type": "code",
   "execution_count": 66,
   "id": "88bed8f3",
   "metadata": {
    "ExecuteTime": {
     "end_time": "2023-06-18T15:21:02.933626Z",
     "start_time": "2023-06-18T15:21:01.007065Z"
    }
   },
   "outputs": [
    {
     "data": {
      "text/html": [
       "<div>\n",
       "<style scoped>\n",
       "    .dataframe tbody tr th:only-of-type {\n",
       "        vertical-align: middle;\n",
       "    }\n",
       "\n",
       "    .dataframe tbody tr th {\n",
       "        vertical-align: top;\n",
       "    }\n",
       "\n",
       "    .dataframe thead th {\n",
       "        text-align: right;\n",
       "    }\n",
       "</style>\n",
       "<table border=\"1\" class=\"dataframe\">\n",
       "  <thead>\n",
       "    <tr style=\"text-align: right;\">\n",
       "      <th></th>\n",
       "      <th>total_gold_spent</th>\n",
       "      <th>floor_reached</th>\n",
       "      <th>final_deck_size</th>\n",
       "      <th>relics</th>\n",
       "      <th>potions_used</th>\n",
       "      <th>character_chosen</th>\n",
       "      <th>campfire_rested</th>\n",
       "      <th>campfire_upgraded</th>\n",
       "      <th>elites_killed</th>\n",
       "      <th>purchased_purges</th>\n",
       "      <th>victory</th>\n",
       "      <th>killed_by</th>\n",
       "      <th>ascension_level</th>\n",
       "    </tr>\n",
       "  </thead>\n",
       "  <tbody>\n",
       "    <tr>\n",
       "      <th>0</th>\n",
       "      <td>689</td>\n",
       "      <td>50</td>\n",
       "      <td>25</td>\n",
       "      <td>15</td>\n",
       "      <td>4</td>\n",
       "      <td>IRONCLAD</td>\n",
       "      <td>2</td>\n",
       "      <td>9</td>\n",
       "      <td>5</td>\n",
       "      <td>4</td>\n",
       "      <td>False</td>\n",
       "      <td>Awakened One</td>\n",
       "      <td>0</td>\n",
       "    </tr>\n",
       "    <tr>\n",
       "      <th>1</th>\n",
       "      <td>265</td>\n",
       "      <td>17</td>\n",
       "      <td>15</td>\n",
       "      <td>4</td>\n",
       "      <td>0</td>\n",
       "      <td>DEFECT</td>\n",
       "      <td>0</td>\n",
       "      <td>3</td>\n",
       "      <td>1</td>\n",
       "      <td>1</td>\n",
       "      <td>False</td>\n",
       "      <td>Misc</td>\n",
       "      <td>0</td>\n",
       "    </tr>\n",
       "    <tr>\n",
       "      <th>2</th>\n",
       "      <td>1054</td>\n",
       "      <td>51</td>\n",
       "      <td>34</td>\n",
       "      <td>20</td>\n",
       "      <td>8</td>\n",
       "      <td>THE_SILENT</td>\n",
       "      <td>2</td>\n",
       "      <td>3</td>\n",
       "      <td>10</td>\n",
       "      <td>2</td>\n",
       "      <td>True</td>\n",
       "      <td>None</td>\n",
       "      <td>13</td>\n",
       "    </tr>\n",
       "    <tr>\n",
       "      <th>3</th>\n",
       "      <td>86</td>\n",
       "      <td>16</td>\n",
       "      <td>23</td>\n",
       "      <td>6</td>\n",
       "      <td>3</td>\n",
       "      <td>IRONCLAD</td>\n",
       "      <td>2</td>\n",
       "      <td>1</td>\n",
       "      <td>3</td>\n",
       "      <td>0</td>\n",
       "      <td>False</td>\n",
       "      <td>The Guardian</td>\n",
       "      <td>0</td>\n",
       "    </tr>\n",
       "    <tr>\n",
       "      <th>4</th>\n",
       "      <td>0</td>\n",
       "      <td>16</td>\n",
       "      <td>19</td>\n",
       "      <td>6</td>\n",
       "      <td>2</td>\n",
       "      <td>IRONCLAD</td>\n",
       "      <td>3</td>\n",
       "      <td>0</td>\n",
       "      <td>3</td>\n",
       "      <td>0</td>\n",
       "      <td>False</td>\n",
       "      <td>Hexaghost</td>\n",
       "      <td>2</td>\n",
       "    </tr>\n",
       "  </tbody>\n",
       "</table>\n",
       "</div>"
      ],
      "text/plain": [
       "   total_gold_spent  floor_reached  final_deck_size  relics  potions_used  \\\n",
       "0               689             50               25      15             4   \n",
       "1               265             17               15       4             0   \n",
       "2              1054             51               34      20             8   \n",
       "3                86             16               23       6             3   \n",
       "4                 0             16               19       6             2   \n",
       "\n",
       "  character_chosen  campfire_rested  campfire_upgraded  elites_killed  \\\n",
       "0         IRONCLAD                2                  9              5   \n",
       "1           DEFECT                0                  3              1   \n",
       "2       THE_SILENT                2                  3             10   \n",
       "3         IRONCLAD                2                  1              3   \n",
       "4         IRONCLAD                3                  0              3   \n",
       "\n",
       "   purchased_purges  victory     killed_by  ascension_level  \n",
       "0                 4    False  Awakened One                0  \n",
       "1                 1    False          Misc                0  \n",
       "2                 2     True          None               13  \n",
       "3                 0    False  The Guardian                0  \n",
       "4                 0    False     Hexaghost                2  "
      ]
     },
     "execution_count": 66,
     "metadata": {},
     "output_type": "execute_result"
    }
   ],
   "source": [
    "df = pd.read_csv(\"data/full/full_prepared.csv\")\n",
    "df.head()"
   ]
  },
  {
   "cell_type": "code",
   "execution_count": 67,
   "id": "504d999f",
   "metadata": {
    "ExecuteTime": {
     "end_time": "2023-06-18T15:21:04.208855Z",
     "start_time": "2023-06-18T15:21:02.936626Z"
    }
   },
   "outputs": [
    {
     "data": {
      "image/png": "[encoded data removed]",
      "text/plain": [
       "<Figure size 1000x400 with 1 Axes>"
      ]
     },
     "metadata": {},
     "output_type": "display_data"
    }
   ],
   "source": [
    "all_runs = df[\"ascension_level\"].value_counts().sort_index()\n",
    "\n",
    "plt.figure(figsize=(10,4))\n",
    "plt.bar(all_runs.index, all_runs.values, color=[\"#5074b4\" for i in range(len(all_runs)-1)] + [\"#D0221a\"])\n",
    "plt.title(\"Run Distribution per Ascension Level\")\n",
    "plt.xlabel(\"Ascension Level\")\n",
    "plt.ylabel(\"# of Runs\")\n",
    "plt.xticks(np.arange(len(all_runs)))\n",
    "plt.xticks(rotation=0)\n",
    "plt.show()"
   ]
  },
  {
   "cell_type": "markdown",
   "id": "86fa677f",
   "metadata": {},
   "source": [
    "This distribution of runs is interesting as the most runs happen in the base game and at <span style=\"color:#D0221a;\">Ascension 20</span>. It's natural that the base game has the most runs as people slowly familiarize themselves with the game. In addition, some players may not enjoy the additional <span style=\"color:#D0221a;\">Ascension</span> difficulty. For the more hardcore players that welcome the highest difficulty, there is little incentive to play the other <span style=\"color:#D0221a;\">Ascension</span> levels."
   ]
  },
  {
   "cell_type": "code",
   "execution_count": 68,
   "id": "597826bf",
   "metadata": {
    "ExecuteTime": {
     "end_time": "2023-06-18T15:21:04.520676Z",
     "start_time": "2023-06-18T15:21:04.211835Z"
    }
   },
   "outputs": [
    {
     "data": {
      "image/png": "[encoded data removed]",
      "text/plain": [
       "<Figure size 1000x400 with 2 Axes>"
      ]
     },
     "metadata": {},
     "output_type": "display_data"
    }
   ],
   "source": [
    "runs_a0 = df.loc[df[\"ascension_level\"] == 0, \"character_chosen\"].value_counts()\n",
    "runs_a20 = df.loc[df[\"ascension_level\"] == 20, \"character_chosen\"].value_counts()\n",
    "\n",
    "fig, (ax1, ax2) = plt.subplots(nrows=1, ncols=2, figsize=(10, 4))\n",
    "fig.suptitle(\"Run Distribution per Character for Base Game and Ascension 20\")\n",
    "ax1.bar(runs_a0.index, runs_a0.values)\n",
    "ax1.set_xlabel(\"Class\")\n",
    "ax1.set_ylabel(\"# of Runs\")\n",
    "\n",
    "ax2.bar(runs_a20.index, runs_a20.values, color=\"#D0221a\")\n",
    "ax2.set_xlabel(\"Class\")\n",
    "ax2.set_ylabel(\"# of Runs\")\n",
    "plt.show()"
   ]
  },
  {
   "cell_type": "markdown",
   "id": "53095893",
   "metadata": {},
   "source": [
    "This distribution shows which characters are the most and least popular in Slay the Spire. There are several factors to consider here. The Ironclad is the only character initially available. Each other character, in order, is unlocked for play by completing a run with the previous character. Some people may not enjoy this type of game, making it likely that they'll play as the Ironclad or Silent once or twice, and quit before they get to try out the other characters. In addition, the Defect and Watcher are also more complex characters with additional mechanics. For players that enjoy simplicity, they may be less popular choices."
   ]
  },
  {
   "cell_type": "markdown",
   "id": "5f5928a9",
   "metadata": {},
   "source": [
    "For these reasons, it's fair that the popularity of characters coincides with their unlock order. It's visible that the same order holds true at <span style=\"color:#D0221a;\">Ascension 20</span>, with the Watcher seemingly being more unpopular as difficulty increases. Her innate difficulty of play, combined with <span style=\"color:#D0221a;\">Ascension 20</span> may prove to be too much for many players to handle."
   ]
  },
  {
   "cell_type": "code",
   "execution_count": 69,
   "id": "b69cebc5",
   "metadata": {
    "ExecuteTime": {
     "end_time": "2023-06-18T15:21:04.724542Z",
     "start_time": "2023-06-18T15:21:04.523656Z"
    }
   },
   "outputs": [
    {
     "data": {
      "image/png": "[encoded data removed]",
      "text/plain": [
       "<Figure size 1000x400 with 2 Axes>"
      ]
     },
     "metadata": {},
     "output_type": "display_data"
    }
   ],
   "source": [
    "wins_a0 = df.loc[df[\"ascension_level\"] == 0, \"victory\"].value_counts()\n",
    "wins_a20 = df.loc[df[\"ascension_level\"] == 20, \"victory\"].value_counts()\n",
    "\n",
    "fig, (ax1, ax2) = plt.subplots(nrows=1, ncols=2, figsize=(10, 4))\n",
    "fig.suptitle(\"Victory and Defeat Percentages for Base Game and Ascension 20\")\n",
    "ax1.pie(wins_a0, labels=[\"Defeat\", \"Victory\"], autopct=\"%.1f%%\")\n",
    "ax1.set_title(\"Base Game\", y=-0.01)\n",
    "\n",
    "ax2.pie(wins_a20, labels=[\"Defeat\", \"Victory\"], autopct=\"%.1f%%\", colors=[\"#D0221a\", \"#56a866\"])\n",
    "ax2.set_title(\"Ascension 20\", y=-0.01)\n",
    "plt.show()"
   ]
  },
  {
   "cell_type": "markdown",
   "id": "5fcffd76",
   "metadata": {},
   "source": [
    "It's visible that within the dataset, only 9.2% of all runs of the base game seem to end in victory. This is the case even after removing all runs that do not manage to reach floor 3. This was done to get rid of non-runs of people rerolling or quitting early due to being unhappy with a start. Naturally, these runs are largely comprised of new players."
   ]
  },
  {
   "cell_type": "markdown",
   "id": "aad7d443",
   "metadata": {},
   "source": [
    "As expected, the victory ratio at <span style=\"color:#D0221a;\">Ascension 20</span> is very low. The game will require the utmost skill in general game knowledge, risk assessment, planning, etc., to achieve victory. In addition, with Slay the Spire being a roguelike deckbuilder, luck will always play a factor in your success."
   ]
  },
  {
   "cell_type": "code",
   "execution_count": 70,
   "id": "2231a5e0",
   "metadata": {
    "ExecuteTime": {
     "end_time": "2023-06-18T15:21:05.019372Z",
     "start_time": "2023-06-18T15:21:04.727540Z"
    }
   },
   "outputs": [
    {
     "data": {
      "image/png": "[encoded data removed]",
      "text/plain": [
       "<Figure size 1000x400 with 1 Axes>"
      ]
     },
     "metadata": {},
     "output_type": "display_data"
    }
   ],
   "source": [
    "wpa = df[df[\"victory\"]].groupby(\"ascension_level\").size() / df[\"ascension_level\"].value_counts().sort_index().values\n",
    "\n",
    "plt.figure(figsize=(10,4))\n",
    "plt.bar(wpa.index, wpa.values * 100, color=[\"#5074b4\" for i in range(len(all_runs)-1)] + [\"#D0221a\"])\n",
    "plt.title(\"Win Percentage per Ascension Level\")\n",
    "plt.xlabel(\"Ascension Level\")\n",
    "plt.ylabel(\"Win %\")\n",
    "plt.xticks(np.arange(len(all_runs)))\n",
    "plt.xticks(rotation=0)\n",
    "plt.show()"
   ]
  },
  {
   "cell_type": "markdown",
   "id": "9b64b3b7",
   "metadata": {},
   "source": [
    "The above graph shows an interesting journey across the various <span style=\"color:#D0221a;\">Ascension</span> levels. The earlier levels prove to not be too much of a hindrance, with <span style=\"color:#D0221a;\">Ascension 1</span> even having a higher win rate than the base game. It's likely that on average, players taking on the additional difficulty levels, have become more acquainted with the game."
   ]
  },
  {
   "cell_type": "markdown",
   "id": "def5c428",
   "metadata": {},
   "source": [
    "The win ratio starts to decline again at <span style=\"color:#D0221a;\">Ascension 10</span>. This is where the more difficult modifiers are introduced, with <span style=\"color:#D0221a;\">Ascension 10</span> introducing Ascender's Bane."
   ]
  },
  {
   "cell_type": "markdown",
   "id": "88699b5b",
   "metadata": {},
   "source": [
    "<img src=\"images/ascendersbane.png\" width=\"200\" align=\"left\" />"
   ]
  },
  {
   "cell_type": "markdown",
   "id": "3dec4871",
   "metadata": {},
   "source": [
    "Whereas the other modifiers have mainly affected the power or toughness of monsters, this modifier is unique in how it adds a card to your starter deck. It cannot be removed by any means and has no positive benefit either. Its purpose is to waste a draw and make your deck less consistent. At a higher difficulty where every card draw matters, this has the potential to be fatal in critical situations."
   ]
  },
  {
   "cell_type": "markdown",
   "id": "d08288a1",
   "metadata": {},
   "source": [
    "Deck consistency is a very important subject and is expanded upon more later."
   ]
  },
  {
   "cell_type": "code",
   "execution_count": 71,
   "id": "84892d6d",
   "metadata": {
    "ExecuteTime": {
     "end_time": "2023-06-18T15:21:05.801711Z",
     "start_time": "2023-06-18T15:21:05.022370Z"
    }
   },
   "outputs": [
    {
     "data": {
      "image/png": "[encoded data removed]",
      "text/plain": [
       "<Figure size 1200x400 with 8 Axes>"
      ]
     },
     "metadata": {},
     "output_type": "display_data"
    }
   ],
   "source": [
    "wpc = df.groupby([\"character_chosen\", \"ascension_level\", \"victory\"]).size().reset_index()\n",
    "\n",
    "def add_plot(ax, character, asc, colors=[\"#D0221a\", \"#56a866\"]):\n",
    "    ax.pie(wpc.loc[(wpc[\"character_chosen\"] == character) & (wpc[\"ascension_level\"] == asc), 0], \n",
    "           labels=[\"Defeat\", \"Victory\"], autopct=\"%.1f%%\", colors=colors)\n",
    "    ax.set_title(f\"{character} ASC {asc}\", y=-0.1)\n",
    "\n",
    "fig, axes = plt.subplots(nrows=2, ncols=4, figsize=(12, 4))\n",
    "fig.suptitle(\"Victory and Defeat Percentages Per Class for Base Game and Ascension 20\")\n",
    "add_plot(axes[0, 0], \"IRONCLAD\", 0, None)\n",
    "add_plot(axes[0, 1], \"THE_SILENT\", 0, None)\n",
    "add_plot(axes[0, 2], \"DEFECT\", 0, None)\n",
    "add_plot(axes[0, 3], \"WATCHER\", 0, None)\n",
    "add_plot(axes[1, 0], \"IRONCLAD\", 20)\n",
    "add_plot(axes[1, 1], \"THE_SILENT\", 20)\n",
    "add_plot(axes[1, 2], \"DEFECT\", 20)\n",
    "add_plot(axes[1, 3], \"WATCHER\", 20)\n",
    "plt.show()"
   ]
  },
  {
   "cell_type": "markdown",
   "id": "e6fe69ec",
   "metadata": {},
   "source": [
    "The win ratio per class for the base game and <span style=\"color:#D0221a;\">Ascension 20</span> paint an interesting picture. The Ironclad seems to perform the best for this difficulty. The Defect, while a mechanically more complex character and usually considered underpowered at times by the community, achieves second place."
   ]
  },
  {
   "cell_type": "markdown",
   "id": "463d58fd",
   "metadata": {},
   "source": [
    "Overall, the Watcher is characterized by being difficult, complex and high risk & high reward. In addition, she is the least popular character to play based on the previous findings. Despite all these factors, she boasts the highest win ratio on <span style=\"color:#D0221a;\">Ascension 20</span>. Sometimes, certain characters or playstyles in games are incredibly powerful, but they have a very high barrier to entry. This makes most of the playerbase not bother with them, but the few people that are able to attain mastery will produce incredible results."
   ]
  },
  {
   "cell_type": "markdown",
   "id": "3c7a5ea9",
   "metadata": {},
   "source": [
    "It's likely that the Watcher has few, but very faithful players that are able to draw out her maximum potential at <span style=\"color:#D0221a;\">Ascension 20</span> to achieve these results."
   ]
  },
  {
   "cell_type": "code",
   "execution_count": 72,
   "id": "43096739",
   "metadata": {
    "ExecuteTime": {
     "end_time": "2023-06-18T15:21:05.989604Z",
     "start_time": "2023-06-18T15:21:05.804710Z"
    }
   },
   "outputs": [
    {
     "data": {
      "image/png": "[encoded data removed]",
      "text/plain": [
       "<Figure size 1200x400 with 2 Axes>"
      ]
     },
     "metadata": {},
     "output_type": "display_data"
    }
   ],
   "source": [
    "fig, (ax1, ax2) = plt.subplots(nrows=1, ncols=2, figsize=(12, 4))\n",
    "fig.suptitle(\"Deck Sizes of Victorious Runs for Base Game and Ascension 20\")\n",
    "ax1.boxplot(df.loc[(df[\"ascension_level\"] == 0) & (df[\"victory\"] == True), \"final_deck_size\"])\n",
    "ax1.get_xaxis().set_visible(False)\n",
    "ax1.set_title(\"Base Game\", y=-0.1)\n",
    "\n",
    "ax2.boxplot(df.loc[(df[\"ascension_level\"] == 20) & (df[\"victory\"] == True), \"final_deck_size\"])\n",
    "ax2.get_xaxis().set_visible(False)\n",
    "ax2.set_title(\"Ascension 20\", y=-0.1)\n",
    "plt.show()"
   ]
  },
  {
   "cell_type": "markdown",
   "id": "0ce168b0",
   "metadata": {},
   "source": [
    "Deck consistency is very important in every card game and Slay the Spire is no exception. Most card games enforce a minimum or maximum limit on cards but Slay the Spire has no such requirements. However, a certain principle will always hold true: a smaller deck is more consistent. You are more likely to draw your important or more powerful cards when there is less clutter to wade through."
   ]
  },
  {
   "cell_type": "markdown",
   "id": "c0a93fae",
   "metadata": {},
   "source": [
    "It's visible that for runs of the base game, a deck tends to average at around 30 cards. As the player starts with 10 cards at the start of each run, an average deck tends to at least triple in size over the course of the game."
   ]
  },
  {
   "cell_type": "markdown",
   "id": "61401e5d",
   "metadata": {},
   "source": [
    "Taking on <span style=\"color:#D0221a;\">Ascension 20</span> requires experience and knowledge. Players that take on this difficulty thus tend to be aware of smaller decks being preferable. The data of <span style=\"color:#D0221a;\">Ascension 20</span> reflects this assumption. An average deck tends to hover around 27 cards. It's also worth noting that due to the introduction of Ascender's Bane, players start with 11 cards instead of 10 at this difficulty level. This means that cards are frequently skipped and that card purges should occur more often."
   ]
  },
  {
   "cell_type": "markdown",
   "id": "66ecaa7b",
   "metadata": {},
   "source": [
    "Occasionally, players are also able to attain a deck that is incredibly small. Such decks usually include cards that additionally remove other cards from the deck during combat only. This allows players to assemble infinite combos assuming they have the requisite card draw and energy gain. The Watcher is notable for having access to the most infinite combos through her cards' mechanics."
   ]
  },
  {
   "cell_type": "markdown",
   "id": "8d39d393",
   "metadata": {},
   "source": [
    "As visible, less than 2 card purges are purchased during an average game at the base game difficulty. "
   ]
  },
  {
   "cell_type": "code",
   "execution_count": 77,
   "id": "391ff23d",
   "metadata": {
    "ExecuteTime": {
     "end_time": "2023-06-18T16:24:57.803722Z",
     "start_time": "2023-06-18T16:24:56.983579Z"
    }
   },
   "outputs": [
    {
     "data": {
      "image/png": "[encoded data removed]",
      "text/plain": [
       "<Figure size 1200x400 with 2 Axes>"
      ]
     },
     "metadata": {},
     "output_type": "display_data"
    }
   ],
   "source": [
    "fig, (ax1, ax2) = plt.subplots(nrows=1, ncols=2, figsize=(12, 4))\n",
    "fig.suptitle(\"Elites Killed of Victorious Runs for Base Game and Ascension 20\")\n",
    "ax1.boxplot(df.loc[(df[\"ascension_level\"] == 0) & (df[\"victory\"] == True), \"elites_killed\"])\n",
    "ax1.get_xaxis().set_visible(False)\n",
    "ax1.set_title(\"Base Game\", y=-0.1)\n",
    "\n",
    "ax2.boxplot(df.loc[(df[\"ascension_level\"] == 20) & (df[\"victory\"] == True), \"elites_killed\"])\n",
    "ax2.get_xaxis().set_visible(False)\n",
    "ax2.set_title(\"Ascension 20\", y=-0.1)\n",
    "plt.show()"
   ]
  },
  {
   "cell_type": "markdown",
   "id": "6c1c506b",
   "metadata": {},
   "source": [
    "Elites are dangerous but rewarding enemies in Slay the Spire. They are capable of quickly ending a mediocre run, or granting more player power in the form of relics, gold, and card rewards. On average, 4 elites are killed during a run of the base game. During <span style=\"color:#D0221a;\">Ascension 20</span> runs, the average raises to 6. Newer players may be frightened by elite enemies whereas <span style=\"color:#D0221a;\">Ascension 20</span> players are more experienced with handling them. In addition, one of the <span style=\"color:#D0221a;\">Ascension</span> modifiers increases the elite spawn rate by 60%, making it possible to fight more elites than during a regular run."
   ]
  },
  {
   "cell_type": "markdown",
   "id": "f245a2a7",
   "metadata": {},
   "source": [
    "<img src=\"images/relics/blackstar.png\" width=\"100\" align=\"left\" />"
   ]
  },
  {
   "cell_type": "markdown",
   "id": "8f9b49c6",
   "metadata": {},
   "source": [
    "Sometimes, the Black Star relic is obtained. This relic makes all elite fights drop two relics instead of a single one. The rewards are high, but so is the risk. Inexperienced players may find themselves back in the starting menu rather quickly if they fall for the bait while unprepared. There are also additional sources of elites such as certain events. For these reasons, the several outlier values exist."
   ]
  },
  {
   "cell_type": "code",
   "execution_count": 155,
   "id": "8087a23b",
   "metadata": {
    "ExecuteTime": {
     "end_time": "2023-06-18T17:30:15.192758Z",
     "start_time": "2023-06-18T17:30:14.943626Z"
    }
   },
   "outputs": [
    {
     "data": {
      "image/png": "[encoded data removed]",
      "text/plain": [
       "<Figure size 1000x800 with 1 Axes>"
      ]
     },
     "metadata": {},
     "output_type": "display_data"
    }
   ],
   "source": [
    "relics_df = pd.DataFrame.from_dict(total_relic_frequency, \n",
    "                                   orient=\"index\").sort_values(by=\"Frequency\", ascending=False).reset_index()\n",
    "relics_df = relics_df[relics_df[\"index\"].isin([\"Burning Blood\", \"Ring of the Snake\", \"NeowsBlessing\", \n",
    "                                               \"Cracked Core\", \"PureWater\"]) == False]\n",
    "relics_df.reset_index(inplace=True, drop=True)\n",
    "\n",
    "plt.figure(figsize=(10,8))\n",
    "plt.barh(relics_df.loc[:14, \"index\"], relics_df.loc[:14, \"Frequency\"])\n",
    "plt.gca().invert_yaxis()\n",
    "plt.title(\"Top 15 Most Frequently Occurring Relics Across Runs\")\n",
    "plt.xlabel(\"Frequency\")\n",
    "plt.ylabel(\"Relic\")\n",
    "plt.show()"
   ]
  },
  {
   "cell_type": "markdown",
   "id": "80eb69c1",
   "metadata": {},
   "source": [
    "<img src=\"images/commonrelics.png\" />"
   ]
  },
  {
   "cell_type": "markdown",
   "id": "8c1e685d",
   "metadata": {},
   "source": [
    "Naturally, the common relics are found more frequently. What is interesting is how the Golden Idol relic seems to occur far more often than other relics, despite being a relic only available through a specific event in Act 1. However, the event is very common and players tend to love its type of buff in a game. The relic makes every fight in the game drop 25% more gold. More gold means more shop visits, meaning more cards, meaning more power. Since it can be found in Act 1, it's guaranteed to provide a nice bonus through a large part of the game."
   ]
  },
  {
   "cell_type": "code",
   "execution_count": 157,
   "id": "d157cbbd",
   "metadata": {
    "ExecuteTime": {
     "end_time": "2023-06-18T17:31:16.224594Z",
     "start_time": "2023-06-18T17:31:15.986730Z"
    }
   },
   "outputs": [
    {
     "data": {
      "text/plain": [
       "Colosseum Nobs            2452\n",
       "3 Shapes                  2178\n",
       "Orb Walker                 943\n",
       "Mind Bloom Boss Battle     366\n",
       "Slaver and Parasite          7\n",
       "Flame Bruiser 2 Orb          3\n",
       "Replay:BlueRogue             1\n",
       "Flame Bruiser 1 Orb          1\n",
       "Fading Forest                1\n",
       "Replay:Snechameleon          1\n",
       "Name: killed_by, dtype: int64"
      ]
     },
     "execution_count": 157,
     "metadata": {},
     "output_type": "execute_result"
    }
   ],
   "source": [
    "df.loc[df[\"killed_by\"] != \"None\", \"killed_by\"].value_counts().tail(10)"
   ]
  }
 ],
 "metadata": {
  "kernelspec": {
   "display_name": "Python 3 (ipykernel)",
   "language": "python",
   "name": "python3"
  },
  "language_info": {
   "codemirror_mode": {
    "name": "ipython",
    "version": 3
   },
   "file_extension": ".py",
   "mimetype": "text/x-python",
   "name": "python",
   "nbconvert_exporter": "python",
   "pygments_lexer": "ipython3",
   "version": "3.9.13"
  }
 },
 "nbformat": 4,
 "nbformat_minor": 5
}
